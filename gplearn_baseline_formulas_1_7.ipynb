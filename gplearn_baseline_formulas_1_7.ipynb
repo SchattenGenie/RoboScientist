{
  "nbformat": 4,
  "nbformat_minor": 0,
  "metadata": {
    "colab": {
      "name": "gplearn_baseline_formulas_1-7",
      "provenance": [],
      "collapsed_sections": []
    },
    "kernelspec": {
      "display_name": "Python 3",
      "name": "python3"
    },
    "language_info": {
      "name": "python"
    }
  },
  "cells": [
    {
      "cell_type": "code",
      "metadata": {
        "colab": {
          "base_uri": "https://localhost:8080/"
        },
        "id": "iwcJPbC3qOCW",
        "outputId": "0c1eeded-871f-40d1-bad2-e10974e7be9b"
      },
      "source": [
        "!pip install gplearn"
      ],
      "execution_count": 1,
      "outputs": [
        {
          "output_type": "stream",
          "text": [
            "Collecting gplearn\n",
            "\u001b[?25l  Downloading https://files.pythonhosted.org/packages/43/6b/ee38cd74b32ad5056603aabbef622f9691f19d0869574dfc610034f18662/gplearn-0.4.1-py3-none-any.whl (41kB)\n",
            "\r\u001b[K     |████████                        | 10kB 14.1MB/s eta 0:00:01\r\u001b[K     |███████████████▉                | 20kB 20.0MB/s eta 0:00:01\r\u001b[K     |███████████████████████▊        | 30kB 23.7MB/s eta 0:00:01\r\u001b[K     |███████████████████████████████▊| 40kB 26.4MB/s eta 0:00:01\r\u001b[K     |████████████████████████████████| 51kB 6.5MB/s \n",
            "\u001b[?25hRequirement already satisfied: joblib>=0.13.0 in /usr/local/lib/python3.7/dist-packages (from gplearn) (1.0.1)\n",
            "Requirement already satisfied: scikit-learn>=0.20.0 in /usr/local/lib/python3.7/dist-packages (from gplearn) (0.22.2.post1)\n",
            "Requirement already satisfied: numpy>=1.11.0 in /usr/local/lib/python3.7/dist-packages (from scikit-learn>=0.20.0->gplearn) (1.19.5)\n",
            "Requirement already satisfied: scipy>=0.17.0 in /usr/local/lib/python3.7/dist-packages (from scikit-learn>=0.20.0->gplearn) (1.4.1)\n",
            "Installing collected packages: gplearn\n",
            "Successfully installed gplearn-0.4.1\n"
          ],
          "name": "stdout"
        }
      ]
    },
    {
      "cell_type": "code",
      "metadata": {
        "id": "g2fKDSV8rVCi"
      },
      "source": [
        "from gplearn.genetic import SymbolicRegressor\n",
        "import numpy as np\n",
        "from sklearn.metrics import mean_squared_error"
      ],
      "execution_count": 2,
      "outputs": []
    },
    {
      "cell_type": "code",
      "metadata": {
        "id": "g2B7fDCb0rz4"
      },
      "source": [
        "def get_results(X, y, population_size, function_set, const_range, generations):\n",
        "    result_mses = []\n",
        "    result_mses2 = []\n",
        "    result_equations = []\n",
        "    best_program = None\n",
        "    best_mse = None\n",
        "    for rs in [1, 2, 3, 4,  5]:\n",
        "        est_gp = SymbolicRegressor(population_size=population_size,\n",
        "                                  function_set=function_set,\n",
        "                                  const_range=const_range,\n",
        "                                  metric='mse',\n",
        "                                  random_state=rs,\n",
        "                                  generations=generations,\n",
        "                                  verbose=0)\n",
        "        est_gp.fit(X, y)\n",
        "        result_equations.append(est_gp._program)\n",
        "        result_mses.append(np.min(est_gp.run_details_['best_fitness']))\n",
        "        result_mses2.append(mean_squared_error(y, est_gp.predict(X)))\n",
        "        if best_mse is None or result_mses2[-1] < best_mse:\n",
        "            best_mse = result_mses2[-1]\n",
        "            best_program = est_gp._program\n",
        "    print(f'best_mse: {np.min(result_mses2)}, mean_mse: {np.mean(result_mses2)}')\n",
        "    print(f'best program: {best_program}')\n",
        "    return result_mses, result_mses2, result_equations"
      ],
      "execution_count": 5,
      "outputs": []
    },
    {
      "cell_type": "markdown",
      "metadata": {
        "id": "goN02r5V9CjS"
      },
      "source": [
        "# Formula 1"
      ]
    },
    {
      "cell_type": "code",
      "metadata": {
        "id": "xt9z2lxkjgLE",
        "colab": {
          "base_uri": "https://localhost:8080/"
        },
        "outputId": "aea91510-5f4d-48c4-d5a8-a11123fcda85"
      },
      "source": [
        "X = np.linspace(0.1, 2, num=100).reshape(-1, 1)\n",
        "y = X + np.cos(np.cos(X))+ np.sin(X) * (np.sin(X)+X)\n",
        "\n",
        "gen_size = 2000\n",
        "operations = {'add', 'mul', 'sin', 'cos'}\n",
        "const_range=None\n",
        "generations = 50\n",
        "get_results(X, y, gen_size, operations, const_range, generations)"
      ],
      "execution_count": 6,
      "outputs": [
        {
          "output_type": "stream",
          "text": [
            "/usr/local/lib/python3.7/dist-packages/sklearn/utils/validation.py:760: DataConversionWarning: A column-vector y was passed when a 1d array was expected. Please change the shape of y to (n_samples, ), for example using ravel().\n",
            "  y = column_or_1d(y, warn=True)\n",
            "/usr/local/lib/python3.7/dist-packages/sklearn/utils/validation.py:760: DataConversionWarning: A column-vector y was passed when a 1d array was expected. Please change the shape of y to (n_samples, ), for example using ravel().\n",
            "  y = column_or_1d(y, warn=True)\n",
            "/usr/local/lib/python3.7/dist-packages/sklearn/utils/validation.py:760: DataConversionWarning: A column-vector y was passed when a 1d array was expected. Please change the shape of y to (n_samples, ), for example using ravel().\n",
            "  y = column_or_1d(y, warn=True)\n",
            "/usr/local/lib/python3.7/dist-packages/sklearn/utils/validation.py:760: DataConversionWarning: A column-vector y was passed when a 1d array was expected. Please change the shape of y to (n_samples, ), for example using ravel().\n",
            "  y = column_or_1d(y, warn=True)\n",
            "/usr/local/lib/python3.7/dist-packages/sklearn/utils/validation.py:760: DataConversionWarning: A column-vector y was passed when a 1d array was expected. Please change the shape of y to (n_samples, ), for example using ravel().\n",
            "  y = column_or_1d(y, warn=True)\n"
          ],
          "name": "stderr"
        },
        {
          "output_type": "stream",
          "text": [
            "best_mse: 0.0006093780761622193, mean_mse: 0.0017817090761335606\n",
            "best program: add(sin(X0), add(mul(sin(X0), add(X0, X0)), cos(cos(X0))))\n"
          ],
          "name": "stdout"
        },
        {
          "output_type": "execute_result",
          "data": {
            "text/plain": [
              "([0.0006093780761622193,\n",
              "  0.003540205576090572,\n",
              "  0.0029180630444513543,\n",
              "  0.0006093780761622193,\n",
              "  0.0006093780761622193],\n",
              " [0.0006093780761622193,\n",
              "  0.003540205576090572,\n",
              "  0.003540205576090572,\n",
              "  0.0006093780761622193,\n",
              "  0.0006093780761622193],\n",
              " [<gplearn._program._Program at 0x7f6b2477b5d0>,\n",
              "  <gplearn._program._Program at 0x7f6b256f1650>,\n",
              "  <gplearn._program._Program at 0x7f6b24d00050>,\n",
              "  <gplearn._program._Program at 0x7f6b2564fb10>,\n",
              "  <gplearn._program._Program at 0x7f6b25a8f590>])"
            ]
          },
          "metadata": {
            "tags": []
          },
          "execution_count": 6
        }
      ]
    },
    {
      "cell_type": "code",
      "metadata": {
        "colab": {
          "base_uri": "https://localhost:8080/"
        },
        "id": "LgDQYuEiIoIK",
        "outputId": "94e40743-2d7d-406a-9ff4-39540f074df9"
      },
      "source": [
        "mean_squared_error(np.sin(X) + np.sin(X) * 2 * X + np.cos(np.cos(X)), y)"
      ],
      "execution_count": 7,
      "outputs": [
        {
          "output_type": "execute_result",
          "data": {
            "text/plain": [
              "0.0006093780761622207"
            ]
          },
          "metadata": {
            "tags": []
          },
          "execution_count": 7
        }
      ]
    },
    {
      "cell_type": "markdown",
      "metadata": {
        "id": "p9iHiWwIFanI"
      },
      "source": [
        "# Formula 2"
      ]
    },
    {
      "cell_type": "code",
      "metadata": {
        "colab": {
          "base_uri": "https://localhost:8080/"
        },
        "id": "34Nhx0dRFZf_",
        "outputId": "beeee5be-8665-4d45-b577-7a5138531c58"
      },
      "source": [
        "X = np.linspace(0.1, 2, num=100).reshape(-1, 1)\n",
        "y = np.sin(np.sin(np.sin(X * np.cos(X)))) + np.cos(np.cos(np.cos(X)))\n",
        "\n",
        "gen_size = 2000\n",
        "operations = {'add', 'mul', 'sin', 'cos'}\n",
        "const_range=None\n",
        "generations = 70\n",
        "get_results(X, y, gen_size, operations, const_range, generations)"
      ],
      "execution_count": 8,
      "outputs": [
        {
          "output_type": "stream",
          "text": [
            "/usr/local/lib/python3.7/dist-packages/sklearn/utils/validation.py:760: DataConversionWarning: A column-vector y was passed when a 1d array was expected. Please change the shape of y to (n_samples, ), for example using ravel().\n",
            "  y = column_or_1d(y, warn=True)\n",
            "/usr/local/lib/python3.7/dist-packages/sklearn/utils/validation.py:760: DataConversionWarning: A column-vector y was passed when a 1d array was expected. Please change the shape of y to (n_samples, ), for example using ravel().\n",
            "  y = column_or_1d(y, warn=True)\n",
            "/usr/local/lib/python3.7/dist-packages/sklearn/utils/validation.py:760: DataConversionWarning: A column-vector y was passed when a 1d array was expected. Please change the shape of y to (n_samples, ), for example using ravel().\n",
            "  y = column_or_1d(y, warn=True)\n",
            "/usr/local/lib/python3.7/dist-packages/sklearn/utils/validation.py:760: DataConversionWarning: A column-vector y was passed when a 1d array was expected. Please change the shape of y to (n_samples, ), for example using ravel().\n",
            "  y = column_or_1d(y, warn=True)\n",
            "/usr/local/lib/python3.7/dist-packages/sklearn/utils/validation.py:760: DataConversionWarning: A column-vector y was passed when a 1d array was expected. Please change the shape of y to (n_samples, ), for example using ravel().\n",
            "  y = column_or_1d(y, warn=True)\n"
          ],
          "name": "stderr"
        },
        {
          "output_type": "stream",
          "text": [
            "best_mse: 0.0, mean_mse: 0.0007183654649007987\n",
            "best program: add(sin(sin(sin(mul(X0, cos(X0))))), cos(cos(cos(X0))))\n"
          ],
          "name": "stdout"
        },
        {
          "output_type": "execute_result",
          "data": {
            "text/plain": [
              "([0.0017959136622519968, 0.0, 0.0, 0.0, 0.0007372938379242261],\n",
              " [0.0017959136622519968, 0.0, 0.0, 0.0, 0.0017959136622519968],\n",
              " [<gplearn._program._Program at 0x7f6b2454b390>,\n",
              "  <gplearn._program._Program at 0x7f6b2413d310>,\n",
              "  <gplearn._program._Program at 0x7f6b242fae50>,\n",
              "  <gplearn._program._Program at 0x7f6b2430a1d0>,\n",
              "  <gplearn._program._Program at 0x7f6b23c57e50>])"
            ]
          },
          "metadata": {
            "tags": []
          },
          "execution_count": 8
        }
      ]
    },
    {
      "cell_type": "markdown",
      "metadata": {
        "id": "t2EDJpOyJu2P"
      },
      "source": [
        "# Formula 3"
      ]
    },
    {
      "cell_type": "code",
      "metadata": {
        "colab": {
          "base_uri": "https://localhost:8080/"
        },
        "id": "w82KREKyFNNG",
        "outputId": "420a1515-b6f5-4390-f372-5b9d747ae084"
      },
      "source": [
        "X = np.linspace(0.1, 2, num=100).reshape(-1, 1)\n",
        "y = np.sin(np.sin(np.sin(X)))*np.cos(np.cos(np.cos(np.cos(X))))\n",
        "\n",
        "gen_size = 2000\n",
        "operations = {'add', 'mul', 'sin', 'cos'}\n",
        "const_range=None\n",
        "generations = 100\n",
        "get_results(X, y, gen_size, operations, const_range, generations)"
      ],
      "execution_count": 9,
      "outputs": [
        {
          "output_type": "stream",
          "text": [
            "/usr/local/lib/python3.7/dist-packages/sklearn/utils/validation.py:760: DataConversionWarning: A column-vector y was passed when a 1d array was expected. Please change the shape of y to (n_samples, ), for example using ravel().\n",
            "  y = column_or_1d(y, warn=True)\n",
            "/usr/local/lib/python3.7/dist-packages/sklearn/utils/validation.py:760: DataConversionWarning: A column-vector y was passed when a 1d array was expected. Please change the shape of y to (n_samples, ), for example using ravel().\n",
            "  y = column_or_1d(y, warn=True)\n",
            "/usr/local/lib/python3.7/dist-packages/sklearn/utils/validation.py:760: DataConversionWarning: A column-vector y was passed when a 1d array was expected. Please change the shape of y to (n_samples, ), for example using ravel().\n",
            "  y = column_or_1d(y, warn=True)\n",
            "/usr/local/lib/python3.7/dist-packages/sklearn/utils/validation.py:760: DataConversionWarning: A column-vector y was passed when a 1d array was expected. Please change the shape of y to (n_samples, ), for example using ravel().\n",
            "  y = column_or_1d(y, warn=True)\n",
            "/usr/local/lib/python3.7/dist-packages/sklearn/utils/validation.py:760: DataConversionWarning: A column-vector y was passed when a 1d array was expected. Please change the shape of y to (n_samples, ), for example using ravel().\n",
            "  y = column_or_1d(y, warn=True)\n"
          ],
          "name": "stderr"
        },
        {
          "output_type": "stream",
          "text": [
            "best_mse: 0.0, mean_mse: 0.0\n",
            "best program: mul(sin(sin(sin(X0))), cos(cos(cos(cos(X0)))))\n"
          ],
          "name": "stdout"
        },
        {
          "output_type": "execute_result",
          "data": {
            "text/plain": [
              "([0.0, 0.0, 0.0, 0.0, 0.0],\n",
              " [0.0, 0.0, 0.0, 0.0, 0.0],\n",
              " [<gplearn._program._Program at 0x7f6b23917e90>,\n",
              "  <gplearn._program._Program at 0x7f6b238c9e10>,\n",
              "  <gplearn._program._Program at 0x7f6b23829ed0>,\n",
              "  <gplearn._program._Program at 0x7f6b236fb810>,\n",
              "  <gplearn._program._Program at 0x7f6b25182910>])"
            ]
          },
          "metadata": {
            "tags": []
          },
          "execution_count": 9
        }
      ]
    },
    {
      "cell_type": "markdown",
      "metadata": {
        "id": "l9DOm0FpKSKR"
      },
      "source": [
        "# Formula 4"
      ]
    },
    {
      "cell_type": "code",
      "metadata": {
        "colab": {
          "base_uri": "https://localhost:8080/"
        },
        "id": "-Lnzpzv4KTVG",
        "outputId": "e6790bc7-54d4-4f84-adc5-45981295bb2e"
      },
      "source": [
        "X = np.linspace(0.1, 2, num=100).reshape(-1, 1)\n",
        "y = (-X + np.sin(X) + np.cos(X))/X**2\n",
        "\n",
        "gen_size = 2000\n",
        "operations = {'add', 'mul', 'sin', 'cos', 'div', 'sub'}\n",
        "const_range=None\n",
        "generations = 60\n",
        "get_results(X, y, gen_size, operations, const_range, generations)"
      ],
      "execution_count": 10,
      "outputs": [
        {
          "output_type": "stream",
          "text": [
            "/usr/local/lib/python3.7/dist-packages/sklearn/utils/validation.py:760: DataConversionWarning: A column-vector y was passed when a 1d array was expected. Please change the shape of y to (n_samples, ), for example using ravel().\n",
            "  y = column_or_1d(y, warn=True)\n",
            "/usr/local/lib/python3.7/dist-packages/sklearn/utils/validation.py:760: DataConversionWarning: A column-vector y was passed when a 1d array was expected. Please change the shape of y to (n_samples, ), for example using ravel().\n",
            "  y = column_or_1d(y, warn=True)\n",
            "/usr/local/lib/python3.7/dist-packages/sklearn/utils/validation.py:760: DataConversionWarning: A column-vector y was passed when a 1d array was expected. Please change the shape of y to (n_samples, ), for example using ravel().\n",
            "  y = column_or_1d(y, warn=True)\n",
            "/usr/local/lib/python3.7/dist-packages/sklearn/utils/validation.py:760: DataConversionWarning: A column-vector y was passed when a 1d array was expected. Please change the shape of y to (n_samples, ), for example using ravel().\n",
            "  y = column_or_1d(y, warn=True)\n",
            "/usr/local/lib/python3.7/dist-packages/sklearn/utils/validation.py:760: DataConversionWarning: A column-vector y was passed when a 1d array was expected. Please change the shape of y to (n_samples, ), for example using ravel().\n",
            "  y = column_or_1d(y, warn=True)\n"
          ],
          "name": "stderr"
        },
        {
          "output_type": "stream",
          "text": [
            "best_mse: 8.417766476683578e-05, mean_mse: 0.008703040182206004\n",
            "best program: sub(div(div(X0, X0), mul(X0, X0)), sin(sin(sin(cos(cos(cos(cos(X0))))))))\n"
          ],
          "name": "stdout"
        },
        {
          "output_type": "execute_result",
          "data": {
            "text/plain": [
              "([8.417766476683578e-05,\n",
              "  0.005360123722771124,\n",
              "  0.0016986160253865412,\n",
              "  0.005243198818042388,\n",
              "  0.0019502775308883934],\n",
              " [8.417766476683578e-05,\n",
              "  0.030877423174561276,\n",
              "  0.005360123722771122,\n",
              "  0.005243198818042388,\n",
              "  0.0019502775308883934],\n",
              " [<gplearn._program._Program at 0x7f6b247b7c90>,\n",
              "  <gplearn._program._Program at 0x7f6b2547bc50>,\n",
              "  <gplearn._program._Program at 0x7f6b2538a650>,\n",
              "  <gplearn._program._Program at 0x7f6b2359d490>,\n",
              "  <gplearn._program._Program at 0x7f6b248015d0>])"
            ]
          },
          "metadata": {
            "tags": []
          },
          "execution_count": 10
        }
      ]
    },
    {
      "cell_type": "markdown",
      "metadata": {
        "id": "CsoakbTdKliS"
      },
      "source": [
        "# Formula 5"
      ]
    },
    {
      "cell_type": "code",
      "metadata": {
        "colab": {
          "base_uri": "https://localhost:8080/"
        },
        "id": "YlgkWdZkKnGm",
        "outputId": "0b5f8bd2-1559-4c74-95ba-6bd8ac55051d"
      },
      "source": [
        "X = np.linspace(0.1, 2, num=100).reshape(-1, 1)\n",
        "y = np.sin(2*X/(X + np.sin(X))**2)\n",
        "\n",
        "gen_size = 2000\n",
        "operations = {'add', 'mul', 'sin', 'cos', 'div', 'sub'}\n",
        "const_range=None\n",
        "generations = 60\n",
        "get_results(X, y, gen_size, operations, const_range, generations)"
      ],
      "execution_count": 11,
      "outputs": [
        {
          "output_type": "stream",
          "text": [
            "/usr/local/lib/python3.7/dist-packages/sklearn/utils/validation.py:760: DataConversionWarning: A column-vector y was passed when a 1d array was expected. Please change the shape of y to (n_samples, ), for example using ravel().\n",
            "  y = column_or_1d(y, warn=True)\n",
            "/usr/local/lib/python3.7/dist-packages/sklearn/utils/validation.py:760: DataConversionWarning: A column-vector y was passed when a 1d array was expected. Please change the shape of y to (n_samples, ), for example using ravel().\n",
            "  y = column_or_1d(y, warn=True)\n",
            "/usr/local/lib/python3.7/dist-packages/sklearn/utils/validation.py:760: DataConversionWarning: A column-vector y was passed when a 1d array was expected. Please change the shape of y to (n_samples, ), for example using ravel().\n",
            "  y = column_or_1d(y, warn=True)\n",
            "/usr/local/lib/python3.7/dist-packages/sklearn/utils/validation.py:760: DataConversionWarning: A column-vector y was passed when a 1d array was expected. Please change the shape of y to (n_samples, ), for example using ravel().\n",
            "  y = column_or_1d(y, warn=True)\n",
            "/usr/local/lib/python3.7/dist-packages/sklearn/utils/validation.py:760: DataConversionWarning: A column-vector y was passed when a 1d array was expected. Please change the shape of y to (n_samples, ), for example using ravel().\n",
            "  y = column_or_1d(y, warn=True)\n"
          ],
          "name": "stderr"
        },
        {
          "output_type": "stream",
          "text": [
            "best_mse: 0.0004720598666191427, mean_mse: 0.0007457539234009404\n",
            "best program: sin(div(div(X0, sin(X0)), add(X0, X0)))\n"
          ],
          "name": "stdout"
        },
        {
          "output_type": "execute_result",
          "data": {
            "text/plain": [
              "([0.0004458734691359007,\n",
              "  0.0004720598666191427,\n",
              "  0.0004720598666191427,\n",
              "  0.001156295008573637,\n",
              "  0.0004458734691359007],\n",
              " [0.001156295008573637,\n",
              "  0.0004720598666191427,\n",
              "  0.0004720598666191427,\n",
              "  0.001156295008573637,\n",
              "  0.0004720598666191427],\n",
              " [<gplearn._program._Program at 0x7f6b24d76710>,\n",
              "  <gplearn._program._Program at 0x7f6b25280090>,\n",
              "  <gplearn._program._Program at 0x7f6b23792950>,\n",
              "  <gplearn._program._Program at 0x7f6b2432cad0>,\n",
              "  <gplearn._program._Program at 0x7f6b23c47cd0>])"
            ]
          },
          "metadata": {
            "tags": []
          },
          "execution_count": 11
        }
      ]
    },
    {
      "cell_type": "markdown",
      "metadata": {
        "id": "24fQ_M1BQHmj"
      },
      "source": [
        "# Formula 6"
      ]
    },
    {
      "cell_type": "code",
      "metadata": {
        "colab": {
          "base_uri": "https://localhost:8080/"
        },
        "id": "BwdkZ_iOOafV",
        "outputId": "a1dba92c-176f-4c40-851b-f1b8a732363c"
      },
      "source": [
        "X = np.random.uniform(low=0.1, high=2, size=(100, 2))\n",
        "y = X[:,1]/(X[:,0] + np.sin(X[:,0])) + np.sin(X[:,0]) + np.cos(X[:,1])\n",
        "\n",
        "gen_size = 2000\n",
        "operations = {'add', 'mul', 'sin', 'cos', 'div', 'sub'}\n",
        "const_range=None\n",
        "generations = 100\n",
        "get_results(X, y, gen_size, operations, const_range, generations)"
      ],
      "execution_count": 12,
      "outputs": [
        {
          "output_type": "stream",
          "text": [
            "best_mse: 0.0, mean_mse: 0.02019879144088708\n",
            "best program: add(cos(X1), add(div(X1, add(X0, sin(X0))), sin(X0)))\n"
          ],
          "name": "stdout"
        },
        {
          "output_type": "execute_result",
          "data": {
            "text/plain": [
              "([0.016893135774429788,\n",
              "  0.02979513290666252,\n",
              "  0.0,\n",
              "  1.5284180038657104e-32,\n",
              "  0.04993059339016168],\n",
              " [0.019414403311481417,\n",
              "  0.02979513290666252,\n",
              "  0.0,\n",
              "  1.5284180038657104e-32,\n",
              "  0.05178442098629146],\n",
              " [<gplearn._program._Program at 0x7f6b25093d90>,\n",
              "  <gplearn._program._Program at 0x7f6b23b8c2d0>,\n",
              "  <gplearn._program._Program at 0x7f6b24b8ce90>,\n",
              "  <gplearn._program._Program at 0x7f6b2347edd0>,\n",
              "  <gplearn._program._Program at 0x7f6b242ec550>])"
            ]
          },
          "metadata": {
            "tags": []
          },
          "execution_count": 12
        }
      ]
    },
    {
      "cell_type": "markdown",
      "metadata": {
        "id": "w9ADd2DKRVdc"
      },
      "source": [
        "# Formula 7"
      ]
    },
    {
      "cell_type": "code",
      "metadata": {
        "colab": {
          "base_uri": "https://localhost:8080/"
        },
        "id": "VYq7rMO7RUwx",
        "outputId": "a172688e-05a4-4a1d-aa9d-9b2235d861c3"
      },
      "source": [
        "X = np.random.uniform(low=-2., high=2., size=(1000, 2))\n",
        "y = X[:,1] * np.sin(np.cos(X[:,0])) + np.sin(X[:,0]) + np.cos(np.cos(X[:,1]))\n",
        "\n",
        "gen_size = 2000\n",
        "operations = {'add', 'mul', 'sin', 'cos', 'div', 'sub'}\n",
        "const_range=None\n",
        "generations = 100\n",
        "get_results(X, y, gen_size, operations, const_range, generations)"
      ],
      "execution_count": 13,
      "outputs": [
        {
          "output_type": "stream",
          "text": [
            "best_mse: 1.098145994990158e-32, mean_mse: 0.05254198752419017\n",
            "best program: add(sin(X0), add(cos(cos(X1)), mul(sin(cos(X0)), X1)))\n"
          ],
          "name": "stdout"
        },
        {
          "output_type": "execute_result",
          "data": {
            "text/plain": [
              "([0.08254758761401075,\n",
              "  0.07909507366863697,\n",
              "  0.01700581081099306,\n",
              "  0.08106770577076165,\n",
              "  1.098145994990158e-32],\n",
              " [0.08316468008305429,\n",
              "  0.07937476664384924,\n",
              "  0.01700581081099306,\n",
              "  0.08316468008305429,\n",
              "  1.098145994990158e-32],\n",
              " [<gplearn._program._Program at 0x7f6b25782710>,\n",
              "  <gplearn._program._Program at 0x7f6b24483c10>,\n",
              "  <gplearn._program._Program at 0x7f6b23a88750>,\n",
              "  <gplearn._program._Program at 0x7f6b24e27e50>,\n",
              "  <gplearn._program._Program at 0x7f6b25531690>])"
            ]
          },
          "metadata": {
            "tags": []
          },
          "execution_count": 13
        }
      ]
    },
    {
      "cell_type": "code",
      "metadata": {
        "id": "onnhw-65XY0S"
      },
      "source": [
        "sin(x_1) + cos(cos(x_2)) + x_2 * sin(cos(x_1))"
      ],
      "execution_count": null,
      "outputs": []
    }
  ]
}