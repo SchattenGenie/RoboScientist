{
 "cells": [
  {
   "cell_type": "code",
   "execution_count": 1,
   "metadata": {},
   "outputs": [],
   "source": [
    "from roboscientist.datasets.read_dataset import read_dataset\n",
    "from IPython.display import display\n",
    "from pathlib import Path"
   ]
  },
  {
   "cell_type": "code",
   "execution_count": 2,
   "metadata": {},
   "outputs": [],
   "source": [
    "path_to_dataset = '../datasets/nguyen/'"
   ]
  },
  {
   "cell_type": "code",
   "execution_count": 3,
   "metadata": {},
   "outputs": [
    {
     "data": {
      "text/plain": [
       "'15 formulae (Nguyen-{1..15}, Constant-{1..3}) from https://arxiv.org/abs/1912.04871'"
      ]
     },
     "execution_count": 3,
     "metadata": {},
     "output_type": "execute_result"
    }
   ],
   "source": [
    "with open(Path(path_to_dataset) / 'README.md', 'r') as file:\n",
    "    readme = file.read()\n",
    "readme"
   ]
  },
  {
   "cell_type": "code",
   "execution_count": 4,
   "metadata": {},
   "outputs": [
    {
     "data": {
      "text/plain": [
       "15"
      ]
     },
     "execution_count": 4,
     "metadata": {},
     "output_type": "execute_result"
    }
   ],
   "source": [
    "dataset = read_dataset(path_to_dataset)\n",
    "len(dataset)"
   ]
  },
  {
   "cell_type": "code",
   "execution_count": 5,
   "metadata": {},
   "outputs": [
    {
     "data": {
      "text/latex": [
       "$\\displaystyle x_{1}^{3} + x_{1}^{2} + x_{1}$"
      ],
      "text/plain": [
       "x1**3 + x1**2 + x1"
      ]
     },
     "metadata": {},
     "output_type": "display_data"
    },
    {
     "name": "stdout",
     "output_type": "stream",
     "text": [
      "domain: Space([Integer(low=-1, high=1, prior='uniform', transform='identity')])\n",
      "______________________________\n"
     ]
    },
    {
     "data": {
      "text/latex": [
       "$\\displaystyle x_{1}^{4} + x_{1}^{3} + x_{1}^{2} + x_{1}$"
      ],
      "text/plain": [
       "x1**4 + x1**3 + x1**2 + x1"
      ]
     },
     "metadata": {},
     "output_type": "display_data"
    },
    {
     "name": "stdout",
     "output_type": "stream",
     "text": [
      "domain: Space([Integer(low=-1, high=1, prior='uniform', transform='identity')])\n",
      "______________________________\n"
     ]
    },
    {
     "data": {
      "text/latex": [
       "$\\displaystyle x_{1}^{5} + x_{1}^{4} + x_{1}^{3} + x_{1}^{2} + x_{1}$"
      ],
      "text/plain": [
       "x1**5 + x1**4 + x1**3 + x1**2 + x1"
      ]
     },
     "metadata": {},
     "output_type": "display_data"
    },
    {
     "name": "stdout",
     "output_type": "stream",
     "text": [
      "domain: Space([Integer(low=-1, high=1, prior='uniform', transform='identity')])\n",
      "______________________________\n"
     ]
    },
    {
     "data": {
      "text/latex": [
       "$\\displaystyle x_{1}^{6} + x_{1}^{5} + x_{1}^{4} + x_{1}^{3} + x_{1}^{2} + x_{1}$"
      ],
      "text/plain": [
       "x1**6 + x1**5 + x1**4 + x1**3 + x1**2 + x1"
      ]
     },
     "metadata": {},
     "output_type": "display_data"
    },
    {
     "name": "stdout",
     "output_type": "stream",
     "text": [
      "domain: Space([Integer(low=-1, high=1, prior='uniform', transform='identity')])\n",
      "______________________________\n"
     ]
    },
    {
     "data": {
      "text/latex": [
       "$\\displaystyle \\sin{\\left(x_{1}^{2} \\right)} \\cos{\\left(x_{1} \\right)} - 1$"
      ],
      "text/plain": [
       "sin(x1**2)*cos(x1) - 1"
      ]
     },
     "metadata": {},
     "output_type": "display_data"
    },
    {
     "name": "stdout",
     "output_type": "stream",
     "text": [
      "domain: Space([Integer(low=-1, high=1, prior='uniform', transform='identity')])\n",
      "______________________________\n"
     ]
    },
    {
     "data": {
      "text/latex": [
       "$\\displaystyle \\sin{\\left(x_{1} \\right)} + \\sin{\\left(x_{1}^{2} + x_{1} \\right)}$"
      ],
      "text/plain": [
       "sin(x1) + sin(x1**2 + x1)"
      ]
     },
     "metadata": {},
     "output_type": "display_data"
    },
    {
     "name": "stdout",
     "output_type": "stream",
     "text": [
      "domain: Space([Integer(low=-1, high=1, prior='uniform', transform='identity')])\n",
      "______________________________\n"
     ]
    },
    {
     "data": {
      "text/latex": [
       "$\\displaystyle \\log{\\left(x_{1} + 1 \\right)} + \\log{\\left(x_{1}^{2} + 1 \\right)}$"
      ],
      "text/plain": [
       "log(x1 + 1) + log(x1**2 + 1)"
      ]
     },
     "metadata": {},
     "output_type": "display_data"
    },
    {
     "name": "stdout",
     "output_type": "stream",
     "text": [
      "domain: Space([Integer(low=0, high=2, prior='uniform', transform='identity')])\n",
      "______________________________\n"
     ]
    },
    {
     "data": {
      "text/latex": [
       "$\\displaystyle \\sqrt{x_{1}}$"
      ],
      "text/plain": [
       "sqrt(x1)"
      ]
     },
     "metadata": {},
     "output_type": "display_data"
    },
    {
     "name": "stdout",
     "output_type": "stream",
     "text": [
      "domain: Space([Integer(low=0, high=4, prior='uniform', transform='identity')])\n",
      "______________________________\n"
     ]
    },
    {
     "data": {
      "text/latex": [
       "$\\displaystyle \\sin{\\left(x_{1} \\right)} + \\sin{\\left(x_{2}^{2} \\right)}$"
      ],
      "text/plain": [
       "sin(x1) + sin(x2**2)"
      ]
     },
     "metadata": {},
     "output_type": "display_data"
    },
    {
     "name": "stdout",
     "output_type": "stream",
     "text": [
      "domain: Space([Integer(low=0, high=1, prior='uniform', transform='identity'),\n",
      "       Integer(low=0, high=1, prior='uniform', transform='identity')])\n",
      "______________________________\n"
     ]
    },
    {
     "data": {
      "text/latex": [
       "$\\displaystyle 2 \\sin{\\left(x_{1} \\right)} \\cos{\\left(x_{2} \\right)}$"
      ],
      "text/plain": [
       "2*sin(x1)*cos(x2)"
      ]
     },
     "metadata": {},
     "output_type": "display_data"
    },
    {
     "name": "stdout",
     "output_type": "stream",
     "text": [
      "domain: Space([Integer(low=0, high=1, prior='uniform', transform='identity'),\n",
      "       Integer(low=0, high=1, prior='uniform', transform='identity')])\n",
      "______________________________\n"
     ]
    },
    {
     "data": {
      "text/latex": [
       "$\\displaystyle x_{1}^{x_{2}}$"
      ],
      "text/plain": [
       "x1**x2"
      ]
     },
     "metadata": {},
     "output_type": "display_data"
    },
    {
     "name": "stdout",
     "output_type": "stream",
     "text": [
      "domain: Space([Integer(low=0, high=1, prior='uniform', transform='identity'),\n",
      "       Integer(low=0, high=1, prior='uniform', transform='identity')])\n",
      "______________________________\n"
     ]
    },
    {
     "data": {
      "text/latex": [
       "$\\displaystyle x_{1}^{4} - x_{1}^{3} + \\frac{x_{2}^{2}}{2} - x_{2}$"
      ],
      "text/plain": [
       "x1**4 - x1**3 + x2**2/2 - x2"
      ]
     },
     "metadata": {},
     "output_type": "display_data"
    },
    {
     "name": "stdout",
     "output_type": "stream",
     "text": [
      "domain: Space([Integer(low=0, high=1, prior='uniform', transform='identity'),\n",
      "       Integer(low=0, high=1, prior='uniform', transform='identity')])\n",
      "______________________________\n"
     ]
    },
    {
     "data": {
      "text/latex": [
       "$\\displaystyle 3.39 x_{1}^{3} + 2.12 x_{1}^{2} + 1.78 x_{1}$"
      ],
      "text/plain": [
       "3.39*x1**3 + 2.12*x1**2 + 1.78*x1"
      ]
     },
     "metadata": {},
     "output_type": "display_data"
    },
    {
     "name": "stdout",
     "output_type": "stream",
     "text": [
      "domain: Space([Integer(low=-1, high=1, prior='uniform', transform='identity')])\n",
      "______________________________\n"
     ]
    },
    {
     "data": {
      "text/latex": [
       "$\\displaystyle \\sin{\\left(x_{1}^{2} \\right)} \\cos{\\left(x_{1} \\right)} - 0.75$"
      ],
      "text/plain": [
       "sin(x1**2)*cos(x1) - 0.75"
      ]
     },
     "metadata": {},
     "output_type": "display_data"
    },
    {
     "name": "stdout",
     "output_type": "stream",
     "text": [
      "domain: Space([Integer(low=-1, high=1, prior='uniform', transform='identity')])\n",
      "______________________________\n"
     ]
    },
    {
     "data": {
      "text/latex": [
       "$\\displaystyle \\sin{\\left(1.5 x_{1} \\right)} \\cos{\\left(0.5 x_{2} \\right)}$"
      ],
      "text/plain": [
       "sin(1.5*x1)*cos(0.5*x2)"
      ]
     },
     "metadata": {},
     "output_type": "display_data"
    },
    {
     "name": "stdout",
     "output_type": "stream",
     "text": [
      "domain: Space([Integer(low=0, high=1, prior='uniform', transform='identity'),\n",
      "       Integer(low=0, high=1, prior='uniform', transform='identity')])\n",
      "______________________________\n"
     ]
    }
   ],
   "source": [
    "for formula in dataset:\n",
    "    display(formula.expr)\n",
    "    print(f'domain: {formula._domain}')\n",
    "    print('_' * 30)"
   ]
  },
  {
   "cell_type": "code",
   "execution_count": null,
   "metadata": {},
   "outputs": [],
   "source": []
  }
 ],
 "metadata": {
  "kernelspec": {
   "display_name": "vec2seq",
   "language": "python",
   "name": "vec2seq"
  },
  "language_info": {
   "codemirror_mode": {
    "name": "ipython",
    "version": 3
   },
   "file_extension": ".py",
   "mimetype": "text/x-python",
   "name": "python",
   "nbconvert_exporter": "python",
   "pygments_lexer": "ipython3",
   "version": "3.7.9"
  }
 },
 "nbformat": 4,
 "nbformat_minor": 4
}
