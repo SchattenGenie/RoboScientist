{
 "cells": [
  {
   "cell_type": "code",
   "execution_count": 18,
   "metadata": {},
   "outputs": [],
   "source": [
    "%load_ext autoreload\n",
    "%autoreload 2"
   ]
  },
  {
   "cell_type": "code",
   "execution_count": 10,
   "metadata": {},
   "outputs": [],
   "source": [
    "from roboscientist.models.vae_solver import VAESolver, VAESolverParams\n",
    "from roboscientist.models.random_node_solver import RandomNodeSolver, RandomNodeSolverParams\n",
    "from roboscientist.logger import single_formula_logger\n",
    "import numpy as np\n",
    "import torch"
   ]
  },
  {
   "cell_type": "code",
   "execution_count": 11,
   "metadata": {},
   "outputs": [],
   "source": [
    "from roboscientist.datasets import equations_utils, equations_base, equations_settings\n",
    "import numpy as np\n",
    "f = equations_utils.infix_to_expr(['Add', 'Add', 'Mul', \"Add\", \"sin\", 0.8, \"Symbol('x0')\", 'sin', \"Symbol('x0')\", 'cos', 'cos', \"Symbol('x0')\", 1.0])\n",
    "f = equations_base.Equation(f, space=((0., 2.),))\n",
    "f.add_observation(np.linspace(0.1, 2, num=100).reshape(-1, 1))\n",
    "X = f.domain_sample(3)\n",
    "y_true = f.func(X)"
   ]
  },
  {
   "cell_type": "code",
   "execution_count": 12,
   "metadata": {},
   "outputs": [
    {
     "data": {
      "text/plain": [
       "array([[0.0107645 ],\n",
       "       [1.39078816],\n",
       "       [0.37313424]])"
      ]
     },
     "execution_count": 12,
     "metadata": {},
     "output_type": "execute_result"
    }
   ],
   "source": [
    "X"
   ]
  },
  {
   "cell_type": "code",
   "execution_count": 13,
   "metadata": {},
   "outputs": [
    {
     "data": {
      "text/plain": [
       "array([1.54818876, 4.05809688, 1.99440288])"
      ]
     },
     "execution_count": 13,
     "metadata": {},
     "output_type": "execute_result"
    }
   ],
   "source": [
    "y_true"
   ]
  },
  {
   "cell_type": "code",
   "execution_count": 14,
   "metadata": {},
   "outputs": [
    {
     "name": "stdout",
     "output_type": "stream",
     "text": [
      "(x0 + 0.717356090899523)*sin(x0) + cos(cos(x0)) + 1.0\n"
     ]
    }
   ],
   "source": [
    "print(f)"
   ]
  },
  {
   "cell_type": "code",
   "execution_count": 31,
   "metadata": {},
   "outputs": [
    {
     "data": {
      "text/html": [
       "Finishing last run (ID:2dna8evj) before initializing another..."
      ],
      "text/plain": [
       "<IPython.core.display.HTML object>"
      ]
     },
     "metadata": {},
     "output_type": "display_data"
    },
    {
     "data": {
      "text/html": [
       "<br/>Waiting for W&B process to finish, PID 2069<br/>Program ended successfully."
      ],
      "text/plain": [
       "<IPython.core.display.HTML object>"
      ]
     },
     "metadata": {},
     "output_type": "display_data"
    },
    {
     "name": "stderr",
     "output_type": "stream",
     "text": [
      "\u001b[34m\u001b[1mwandb\u001b[0m: \u001b[32m\u001b[41mERROR\u001b[0m Problem finishing run\n",
      "Traceback (most recent call last):\n",
      "  File \"/Users/juliasemavina/anaconda3/lib/python3.7/site-packages/wandb/sdk/wandb_run.py\", line 1196, in _atexit_cleanup\n",
      "    self._on_finish()\n",
      "  File \"/Users/juliasemavina/anaconda3/lib/python3.7/site-packages/wandb/sdk/wandb_run.py\", line 1344, in _on_finish\n",
      "    self._backend.interface.publish_exit(self._exit_code)\n",
      "  File \"/Users/juliasemavina/anaconda3/lib/python3.7/site-packages/wandb/sdk/interface/interface.py\", line 585, in publish_exit\n",
      "    self._publish(rec)\n",
      "  File \"/Users/juliasemavina/anaconda3/lib/python3.7/site-packages/wandb/sdk/interface/interface.py\", line 433, in _publish\n",
      "    raise Exception(\"The wandb backend process has shutdown\")\n",
      "Exception: The wandb backend process has shutdown\n"
     ]
    },
    {
     "data": {
      "text/html": [
       "...Successfully finished last run (ID:2dna8evj). Initializing new run:<br/><br/>"
      ],
      "text/plain": [
       "<IPython.core.display.HTML object>"
      ]
     },
     "metadata": {},
     "output_type": "display_data"
    },
    {
     "name": "stderr",
     "output_type": "stream",
     "text": [
      "\u001b[34m\u001b[1mwandb\u001b[0m: wandb version 0.10.26 is available!  To upgrade, please run:\n",
      "\u001b[34m\u001b[1mwandb\u001b[0m:  $ pip install wandb --upgrade\n"
     ]
    },
    {
     "data": {
      "text/html": [
       "\n",
       "                Tracking run with wandb version 0.10.11<br/>\n",
       "                Syncing run <strong style=\"color:#cdcd00\">test1</strong> to <a href=\"https://wandb.ai\" target=\"_blank\">Weights & Biases</a> <a href=\"https://docs.wandb.com/integrations/jupyter.html\" target=\"_blank\">(Documentation)</a>.<br/>\n",
       "                Project page: <a href=\"https://wandb.ai/nuwanda57/test1\" target=\"_blank\">https://wandb.ai/nuwanda57/test1</a><br/>\n",
       "                Run page: <a href=\"https://wandb.ai/nuwanda57/test1/runs/39brhble\" target=\"_blank\">https://wandb.ai/nuwanda57/test1/runs/39brhble</a><br/>\n",
       "                Run data is saved locally in <code>/Users/juliasemavina/Desktop/diploma_all/main_repo/RoboScientist/src/wandb/run-20210419_170145-39brhble</code><br/><br/>\n",
       "            "
      ],
      "text/plain": [
       "<IPython.core.display.HTML object>"
      ]
     },
     "metadata": {},
     "output_type": "display_data"
    },
    {
     "name": "stdout",
     "output_type": "stream",
     "text": [
      "['sin', 'cos', 'Add', 'Mul', \"Symbol('x0')\", \"Symbol('const%d')\"]\n"
     ]
    }
   ],
   "source": [
    "vs = RandomNodeSolver(single_formula_logger.SingleFormulaLogger('test1', 'test1', {}), \n",
    "               RandomNodeSolverParams(true_formula=f))"
   ]
  },
  {
   "cell_type": "code",
   "execution_count": 33,
   "metadata": {},
   "outputs": [
    {
     "data": {
      "text/plain": [
       "<roboscientist.datasets.dataset.Dataset at 0x1a4cadd5c0>"
      ]
     },
     "execution_count": 33,
     "metadata": {},
     "output_type": "execute_result"
    }
   ],
   "source": [
    "vs.solve(f, epochs=50)"
   ]
  },
  {
   "cell_type": "code",
   "execution_count": null,
   "metadata": {},
   "outputs": [],
   "source": []
  }
 ],
 "metadata": {
  "kernelspec": {
   "display_name": "Python 3",
   "language": "python",
   "name": "python3"
  },
  "language_info": {
   "codemirror_mode": {
    "name": "ipython",
    "version": 3
   },
   "file_extension": ".py",
   "mimetype": "text/x-python",
   "name": "python",
   "nbconvert_exporter": "python",
   "pygments_lexer": "ipython3",
   "version": "3.7.1"
  }
 },
 "nbformat": 4,
 "nbformat_minor": 4
}
