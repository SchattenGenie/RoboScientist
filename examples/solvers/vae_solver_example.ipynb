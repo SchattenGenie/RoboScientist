{
 "cells": [
  {
   "cell_type": "code",
   "execution_count": 10,
   "metadata": {
    "colab": {
     "base_uri": "https://localhost:8080/"
    },
    "id": "eTAo-PHRe5zT",
    "outputId": "172331b1-400c-4099-d955-055501b55ef0"
   },
   "outputs": [
    {
     "name": "stdout",
     "output_type": "stream",
     "text": [
      "The autoreload extension is already loaded. To reload it, use:\n",
      "  %reload_ext autoreload\n"
     ]
    }
   ],
   "source": [
    "%load_ext autoreload\n",
    "%autoreload 2\n"
   ]
  },
  {
   "cell_type": "code",
   "execution_count": 11,
   "metadata": {
    "id": "wXqmR-g5p9mn"
   },
   "outputs": [],
   "source": [
    "from roboscientist.models.vae_solver import VAESolver, VAESolverParams\n",
    "from roboscientist.logger import single_formula_logger\n",
    "import numpy as np\n",
    "import torch"
   ]
  },
  {
   "cell_type": "code",
   "execution_count": 12,
   "metadata": {
    "id": "9Y8SIN11eb1U"
   },
   "outputs": [],
   "source": [
    "from roboscientist.datasets import equations_utils, equations_base, equations_settings\n",
    "import numpy as np\n",
    "f = equations_utils.infix_to_expr(['Add', 'Add', 'Mul', \"Add\", \"sin\", 0.8, \"Symbol('x0')\", 'sin', \"Symbol('x0')\", 'cos', 'cos', \"Symbol('x0')\", 1.0])\n",
    "f = equations_base.Equation(f)\n",
    "f.add_observation(np.linspace(0.1, 2, num=100).reshape(-1, 1))\n",
    "X, y_true = f.dataset"
   ]
  },
  {
   "cell_type": "code",
   "execution_count": 13,
   "metadata": {
    "id": "MG2kA7iJxSF_"
   },
   "outputs": [
    {
     "name": "stdout",
     "output_type": "stream",
     "text": [
      "(x0 + 0.717356090899523)*sin(x0) + cos(cos(x0)) + 1.0\n"
     ]
    }
   ],
   "source": [
    "print(f)"
   ]
  },
  {
   "cell_type": "code",
   "execution_count": 18,
   "metadata": {},
   "outputs": [],
   "source": [
    "vae_solver_params = VAESolverParams(\n",
    "    device=torch.device('cpu'), \n",
    "    true_formula=f,\n",
    "    optimizable_constants=[\"Symbol('const%d')\" % i for i in range(15)],\n",
    "    kl_coef=0.5, \n",
    "    percentile=5,\n",
    "    initial_xs=X, \n",
    "    initial_ys=y_true, \n",
    "    active_learning=True,\n",
    "    active_learning_strategy='var',\n",
    "    active_learning_epochs=4,\n",
    "    create_pretrain_dataset=True,\n",
    ")"
   ]
  },
  {
   "cell_type": "code",
   "execution_count": 19,
   "metadata": {},
   "outputs": [],
   "source": [
    "logger_init_conf = {\n",
    "    'true formula_repr': str(f),\n",
    "    **vae_solver_params._asdict(),\n",
    "}\n",
    "for key, item in logger_init_conf.items():\n",
    "    logger_init_conf[key] = str(item)"
   ]
  },
  {
   "cell_type": "code",
   "execution_count": 20,
   "metadata": {},
   "outputs": [
    {
     "data": {
      "text/html": [
       "Finishing last run (ID:3pa6aizc) before initializing another..."
      ],
      "text/plain": [
       "<IPython.core.display.HTML object>"
      ]
     },
     "metadata": {},
     "output_type": "display_data"
    },
    {
     "data": {
      "text/html": [
       "<br/>Waiting for W&B process to finish, PID 1400<br/>Program ended successfully."
      ],
      "text/plain": [
       "<IPython.core.display.HTML object>"
      ]
     },
     "metadata": {},
     "output_type": "display_data"
    },
    {
     "data": {
      "application/vnd.jupyter.widget-view+json": {
       "model_id": "",
       "version_major": 2,
       "version_minor": 0
      },
      "text/plain": [
       "VBox(children=(Label(value=' 0.00MB of 0.00MB uploaded (0.00MB deduped)\\r'), FloatProgress(value=1.0, max=1.0)…"
      ]
     },
     "metadata": {},
     "output_type": "display_data"
    },
    {
     "data": {
      "text/html": [
       "Find user logs for this run at: <code>/Users/juliasemavina/Desktop/diploma_all/main_repo/RoboScientist/src/wandb/run-20210420_112839-3pa6aizc/logs/debug.log</code>"
      ],
      "text/plain": [
       "<IPython.core.display.HTML object>"
      ]
     },
     "metadata": {},
     "output_type": "display_data"
    },
    {
     "data": {
      "text/html": [
       "Find internal logs for this run at: <code>/Users/juliasemavina/Desktop/diploma_all/main_repo/RoboScientist/src/wandb/run-20210420_112839-3pa6aizc/logs/debug-internal.log</code>"
      ],
      "text/plain": [
       "<IPython.core.display.HTML object>"
      ]
     },
     "metadata": {},
     "output_type": "display_data"
    },
    {
     "data": {
      "text/html": [
       "<h3>Run summary:</h3><br/><style>\n",
       "    table.wandb td:nth-child(1) { padding: 0 10px; text-align: right }\n",
       "    </style><table class=\"wandb\">\n",
       "<tr><td>_step</td><td>0</td></tr><tr><td>_runtime</td><td>2</td></tr><tr><td>_timestamp</td><td>1618907324</td></tr></table>"
      ],
      "text/plain": [
       "<IPython.core.display.HTML object>"
      ]
     },
     "metadata": {},
     "output_type": "display_data"
    },
    {
     "data": {
      "text/html": [
       "<h3>Run history:</h3><br/><style>\n",
       "    table.wandb td:nth-child(1) { padding: 0 10px; text-align: right }\n",
       "    </style><table class=\"wandb\">\n",
       "<tr><td>_step</td><td>▁</td></tr><tr><td>_runtime</td><td>▁</td></tr><tr><td>_timestamp</td><td>▁</td></tr></table><br/>"
      ],
      "text/plain": [
       "<IPython.core.display.HTML object>"
      ]
     },
     "metadata": {},
     "output_type": "display_data"
    },
    {
     "data": {
      "text/html": [
       "Synced 4 W&B file(s), 1 media file(s), 0 artifact file(s) and 0 other file(s)"
      ],
      "text/plain": [
       "<IPython.core.display.HTML object>"
      ]
     },
     "metadata": {},
     "output_type": "display_data"
    },
    {
     "data": {
      "text/html": [
       "\n",
       "                    <br/>Synced <strong style=\"color:#cdcd00\">test</strong>: <a href=\"https://wandb.ai/nuwanda57/test/runs/3pa6aizc\" target=\"_blank\">https://wandb.ai/nuwanda57/test/runs/3pa6aizc</a><br/>\n",
       "                "
      ],
      "text/plain": [
       "<IPython.core.display.HTML object>"
      ]
     },
     "metadata": {},
     "output_type": "display_data"
    },
    {
     "data": {
      "text/html": [
       "...Successfully finished last run (ID:3pa6aizc). Initializing new run:<br/><br/>"
      ],
      "text/plain": [
       "<IPython.core.display.HTML object>"
      ]
     },
     "metadata": {},
     "output_type": "display_data"
    },
    {
     "name": "stderr",
     "output_type": "stream",
     "text": [
      "\u001b[34m\u001b[1mwandb\u001b[0m: wandb version 0.10.27 is available!  To upgrade, please run:\n",
      "\u001b[34m\u001b[1mwandb\u001b[0m:  $ pip install wandb --upgrade\n"
     ]
    },
    {
     "data": {
      "text/html": [
       "\n",
       "                Tracking run with wandb version 0.10.11<br/>\n",
       "                Syncing run <strong style=\"color:#cdcd00\">test</strong> to <a href=\"https://wandb.ai\" target=\"_blank\">Weights & Biases</a> <a href=\"https://docs.wandb.com/integrations/jupyter.html\" target=\"_blank\">(Documentation)</a>.<br/>\n",
       "                Project page: <a href=\"https://wandb.ai/nuwanda57/test\" target=\"_blank\">https://wandb.ai/nuwanda57/test</a><br/>\n",
       "                Run page: <a href=\"https://wandb.ai/nuwanda57/test/runs/1k34zr82\" target=\"_blank\">https://wandb.ai/nuwanda57/test/runs/1k34zr82</a><br/>\n",
       "                Run data is saved locally in <code>/Users/juliasemavina/Desktop/diploma_all/main_repo/RoboScientist/src/wandb/run-20210420_112918-1k34zr82</code><br/><br/>\n",
       "            "
      ],
      "text/plain": [
       "<IPython.core.display.HTML object>"
      ]
     },
     "metadata": {},
     "output_type": "display_data"
    }
   ],
   "source": [
    "logger = single_formula_logger.SingleFormulaLogger('test', \n",
    "                                                   'test',\n",
    "                                                   logger_init_conf)"
   ]
  },
  {
   "cell_type": "code",
   "execution_count": 21,
   "metadata": {
    "colab": {
     "base_uri": "https://localhost:8080/",
     "height": 1000
    },
    "id": "O23UxNV4qTOS",
    "outputId": "eb503200-a756-459d-c6a1-b64a5e0165af"
   },
   "outputs": [
    {
     "name": "stdout",
     "output_type": "stream",
     "text": [
      "\t[training] batches count: 1\n",
      "\t[training] loss: 25.554, rec loss: 25.528, kl: 0.051\n",
      "\t[validation] loss: 24.907, rec loss: 24.907, kl: 0.028\n",
      "\t[training] batches count: 1\n",
      "\t[training] loss: 25.184, rec loss: 25.168, kl: 0.033\n",
      "\t[validation] loss: 24.659, rec loss: 24.659, kl: 0.049\n",
      "\t[training] batches count: 1\n",
      "\t[training] loss: 24.988, rec loss: 24.961, kl: 0.053\n",
      "\t[validation] loss: 24.348, rec loss: 24.348, kl: 0.080\n",
      "\t[training] batches count: 1\n",
      "\t[training] loss: 24.696, rec loss: 24.654, kl: 0.084\n",
      "\t[validation] loss: 24.068, rec loss: 24.068, kl: 0.094\n",
      "\t[training] batches count: 1\n",
      "\t[training] loss: 24.407, rec loss: 24.359, kl: 0.096\n",
      "\t[validation] loss: 23.772, rec loss: 23.772, kl: 0.108\n",
      "\t[training] batches count: 1\n",
      "\t[training] loss: 24.109, rec loss: 24.055, kl: 0.108\n",
      "\t[validation] loss: 23.458, rec loss: 23.458, kl: 0.136\n",
      "\t[training] batches count: 1\n",
      "\t[training] loss: 23.786, rec loss: 23.719, kl: 0.134\n",
      "\t[validation] loss: 23.027, rec loss: 23.027, kl: 0.191\n",
      "\t[training] batches count: 1\n",
      "\t[training] loss: 23.482, rec loss: 23.389, kl: 0.185\n",
      "\t[validation] loss: 22.656, rec loss: 22.656, kl: 0.233\n",
      "\t[training] batches count: 1\n",
      "\t[training] loss: 23.004, rec loss: 22.892, kl: 0.225\n",
      "\t[validation] loss: 22.141, rec loss: 22.141, kl: 0.263\n",
      "\t[training] batches count: 1\n",
      "\t[training] loss: 22.653, rec loss: 22.526, kl: 0.254\n",
      "\t[validation] loss: 21.823, rec loss: 21.823, kl: 0.393\n",
      "\t[training] batches count: 1\n",
      "\t[training] loss: 22.124, rec loss: 21.935, kl: 0.377\n",
      "\t[validation] loss: 21.126, rec loss: 21.126, kl: 0.498\n",
      "\t[training] batches count: 1\n",
      "\t[training] loss: 21.570, rec loss: 21.330, kl: 0.480\n",
      "\t[validation] loss: 20.629, rec loss: 20.629, kl: 0.476\n",
      "\t[training] batches count: 1\n",
      "\t[training] loss: 21.046, rec loss: 20.815, kl: 0.461\n",
      "\t[validation] loss: 19.917, rec loss: 19.917, kl: 0.576\n",
      "\t[training] batches count: 1\n",
      "\t[training] loss: 20.483, rec loss: 20.203, kl: 0.560\n",
      "\t[validation] loss: 19.213, rec loss: 19.213, kl: 0.869\n",
      "\t[training] batches count: 1\n",
      "\t[training] loss: 19.901, rec loss: 19.482, kl: 0.838\n",
      "\t[validation] loss: 18.790, rec loss: 18.790, kl: 0.700\n",
      "\t[training] batches count: 1\n",
      "\t[training] loss: 19.415, rec loss: 19.075, kl: 0.680\n",
      "\t[validation] loss: 18.185, rec loss: 18.185, kl: 0.796\n",
      "\t[training] batches count: 1\n",
      "\t[training] loss: 18.890, rec loss: 18.500, kl: 0.779\n",
      "\t[validation] loss: 17.799, rec loss: 17.799, kl: 0.776\n",
      "\t[training] batches count: 1\n",
      "\t[training] loss: 18.379, rec loss: 18.002, kl: 0.753\n",
      "\t[validation] loss: 17.274, rec loss: 17.274, kl: 0.746\n",
      "\t[training] batches count: 1\n",
      "\t[training] loss: 18.038, rec loss: 17.668, kl: 0.740\n",
      "\t[validation] loss: 16.907, rec loss: 16.907, kl: 0.902\n",
      "\t[training] batches count: 1\n",
      "\t[training] loss: 17.521, rec loss: 17.079, kl: 0.883\n",
      "\t[validation] loss: 16.682, rec loss: 16.682, kl: 0.538\n",
      "\t[training] batches count: 1\n",
      "\t[training] loss: 17.242, rec loss: 16.975, kl: 0.535\n",
      "\t[validation] loss: 16.386, rec loss: 16.386, kl: 0.693\n",
      "\t[training] batches count: 1\n",
      "\t[training] loss: 16.886, rec loss: 16.549, kl: 0.673\n",
      "\t[validation] loss: 16.174, rec loss: 16.174, kl: 0.515\n",
      "\t[training] batches count: 1\n",
      "\t[training] loss: 16.536, rec loss: 16.285, kl: 0.501\n",
      "\t[validation] loss: 15.921, rec loss: 15.921, kl: 0.373\n",
      "\t[training] batches count: 1\n",
      "\t[training] loss: 16.299, rec loss: 16.116, kl: 0.366\n",
      "\t[validation] loss: 15.722, rec loss: 15.722, kl: 0.355\n",
      "\t[training] batches count: 1\n",
      "\t[training] loss: 16.017, rec loss: 15.847, kl: 0.341\n",
      "\t[validation] loss: 15.490, rec loss: 15.490, kl: 0.379\n",
      "\t[training] batches count: 1\n",
      "\t[training] loss: 15.863, rec loss: 15.680, kl: 0.366\n",
      "\t[validation] loss: 15.277, rec loss: 15.277, kl: 0.355\n",
      "\t[training] batches count: 1\n",
      "\t[training] loss: 15.649, rec loss: 15.477, kl: 0.344\n",
      "\t[validation] loss: 15.159, rec loss: 15.159, kl: 0.293\n",
      "\t[training] batches count: 1\n",
      "\t[training] loss: 15.472, rec loss: 15.329, kl: 0.287\n",
      "\t[validation] loss: 15.057, rec loss: 15.057, kl: 0.226\n",
      "\t[training] batches count: 1\n",
      "\t[training] loss: 15.320, rec loss: 15.209, kl: 0.222\n",
      "\t[validation] loss: 14.937, rec loss: 14.937, kl: 0.237\n",
      "\t[training] batches count: 1\n",
      "\t[training] loss: 15.078, rec loss: 14.961, kl: 0.233\n",
      "\t[validation] loss: 14.810, rec loss: 14.810, kl: 0.209\n",
      "\t[training] batches count: 1\n",
      "\t[training] loss: 15.039, rec loss: 14.934, kl: 0.211\n",
      "\t[validation] loss: 14.611, rec loss: 14.611, kl: 0.210\n",
      "\t[training] batches count: 1\n",
      "\t[training] loss: 14.864, rec loss: 14.757, kl: 0.213\n",
      "\t[validation] loss: 14.494, rec loss: 14.494, kl: 0.212\n",
      "\t[training] batches count: 1\n",
      "\t[training] loss: 14.695, rec loss: 14.589, kl: 0.213\n",
      "\t[validation] loss: 14.425, rec loss: 14.425, kl: 0.191\n",
      "\t[training] batches count: 1\n",
      "\t[training] loss: 14.701, rec loss: 14.604, kl: 0.193\n",
      "\t[validation] loss: 14.302, rec loss: 14.302, kl: 0.221\n",
      "\t[training] batches count: 1\n",
      "\t[training] loss: 14.476, rec loss: 14.369, kl: 0.214\n",
      "\t[validation] loss: 14.261, rec loss: 14.261, kl: 0.197\n",
      "\t[training] batches count: 1\n",
      "\t[training] loss: 14.423, rec loss: 14.324, kl: 0.197\n",
      "\t[validation] loss: 14.015, rec loss: 14.015, kl: 0.204\n",
      "\t[training] batches count: 1\n",
      "\t[training] loss: 14.355, rec loss: 14.251, kl: 0.206\n",
      "\t[validation] loss: 13.908, rec loss: 13.908, kl: 0.213\n",
      "\t[training] batches count: 1\n",
      "\t[training] loss: 14.186, rec loss: 14.079, kl: 0.214\n",
      "\t[validation] loss: 13.928, rec loss: 13.928, kl: 0.184\n",
      "\t[training] batches count: 1\n",
      "\t[training] loss: 14.025, rec loss: 13.931, kl: 0.189\n",
      "\t[validation] loss: 13.915, rec loss: 13.915, kl: 0.142\n",
      "\t[training] batches count: 1\n",
      "\t[training] loss: 14.016, rec loss: 13.940, kl: 0.151\n",
      "\t[validation] loss: 13.761, rec loss: 13.761, kl: 0.158\n",
      "\t[training] batches count: 1\n",
      "\t[training] loss: 13.871, rec loss: 13.791, kl: 0.161\n",
      "\t[validation] loss: 13.703, rec loss: 13.703, kl: 0.180\n",
      "\t[training] batches count: 1\n",
      "\t[training] loss: 13.784, rec loss: 13.694, kl: 0.180\n",
      "\t[validation] loss: 13.646, rec loss: 13.646, kl: 0.163\n",
      "\t[training] batches count: 1\n",
      "\t[training] loss: 13.728, rec loss: 13.643, kl: 0.170\n",
      "\t[validation] loss: 13.569, rec loss: 13.569, kl: 0.174\n",
      "\t[training] batches count: 1\n",
      "\t[training] loss: 13.579, rec loss: 13.491, kl: 0.176\n",
      "\t[validation] loss: 13.507, rec loss: 13.507, kl: 0.160\n",
      "\t[training] batches count: 1\n",
      "\t[training] loss: 13.528, rec loss: 13.445, kl: 0.166\n",
      "\t[validation] loss: 13.428, rec loss: 13.428, kl: 0.149\n",
      "\t[training] batches count: 1\n",
      "\t[training] loss: 13.515, rec loss: 13.439, kl: 0.151\n",
      "\t[validation] loss: 13.321, rec loss: 13.321, kl: 0.163\n",
      "\t[training] batches count: 1\n",
      "\t[training] loss: 13.373, rec loss: 13.290, kl: 0.167\n",
      "\t[validation] loss: 13.305, rec loss: 13.305, kl: 0.146\n",
      "\t[training] batches count: 1\n",
      "\t[training] loss: 13.359, rec loss: 13.280, kl: 0.156\n",
      "\t[validation] loss: 13.192, rec loss: 13.192, kl: 0.148\n",
      "\t[training] batches count: 1\n",
      "\t[training] loss: 13.268, rec loss: 13.190, kl: 0.156\n",
      "\t[validation] loss: 13.211, rec loss: 13.211, kl: 0.220\n",
      "\t[training] batches count: 1\n",
      "\t[training] loss: 13.278, rec loss: 13.167, kl: 0.221\n",
      "\t[validation] loss: 13.055, rec loss: 13.055, kl: 0.202\n"
     ]
    }
   ],
   "source": [
    "vs = VAESolver(logger, None, vae_solver_params)"
   ]
  },
  {
   "cell_type": "code",
   "execution_count": null,
   "metadata": {
    "colab": {
     "base_uri": "https://localhost:8080/"
    },
    "id": "7JFnAL9QtRBz",
    "outputId": "1d9b194d-cc10-4231-ce20-5cf4803532f3"
   },
   "outputs": [
    {
     "name": "stderr",
     "output_type": "stream",
     "text": [
      "/usr/local/lib/python3.7/dist-packages/numpy/core/_asarray.py:136: VisibleDeprecationWarning: Creating an ndarray from ragged nested sequences (which is a list-or-tuple of lists-or-tuples-or ndarrays with different lengths or shapes) is deprecated. If you meant to do this, you must specify 'dtype=object' when creating the ndarray\n",
      "  return array(a, dtype, copy=False, order=order, subok=True)\n"
     ]
    },
    {
     "name": "stdout",
     "output_type": "stream",
     "text": [
      "\t[training] batches count: 1\n",
      "\t[training] loss: 11.135, rec loss: 7.396, kl: 7.478\n",
      "\t[validation] loss: 6.354, rec loss: 6.354, kl: 8.402\n"
     ]
    },
    {
     "name": "stderr",
     "output_type": "stream",
     "text": [
      "/usr/local/lib/python3.7/dist-packages/numpy/core/_asarray.py:136: VisibleDeprecationWarning: Creating an ndarray from ragged nested sequences (which is a list-or-tuple of lists-or-tuples-or ndarrays with different lengths or shapes) is deprecated. If you meant to do this, you must specify 'dtype=object' when creating the ndarray\n",
      "  return array(a, dtype, copy=False, order=order, subok=True)\n"
     ]
    },
    {
     "name": "stdout",
     "output_type": "stream",
     "text": [
      "\t[training] batches count: 1\n",
      "\t[training] loss: 11.030, rec loss: 6.873, kl: 8.314\n",
      "\t[validation] loss: 9.622, rec loss: 9.622, kl: 8.843\n"
     ]
    },
    {
     "name": "stderr",
     "output_type": "stream",
     "text": [
      "/usr/local/lib/python3.7/dist-packages/numpy/core/_asarray.py:136: VisibleDeprecationWarning: Creating an ndarray from ragged nested sequences (which is a list-or-tuple of lists-or-tuples-or ndarrays with different lengths or shapes) is deprecated. If you meant to do this, you must specify 'dtype=object' when creating the ndarray\n",
      "  return array(a, dtype, copy=False, order=order, subok=True)\n"
     ]
    },
    {
     "name": "stdout",
     "output_type": "stream",
     "text": [
      "\t[training] batches count: 1\n",
      "\t[training] loss: 14.619, rec loss: 10.221, kl: 8.795\n",
      "\t[validation] loss: 15.127, rec loss: 15.127, kl: 8.758\n"
     ]
    },
    {
     "name": "stderr",
     "output_type": "stream",
     "text": [
      "/usr/local/lib/python3.7/dist-packages/numpy/core/_asarray.py:136: VisibleDeprecationWarning: Creating an ndarray from ragged nested sequences (which is a list-or-tuple of lists-or-tuples-or ndarrays with different lengths or shapes) is deprecated. If you meant to do this, you must specify 'dtype=object' when creating the ndarray\n",
      "  return array(a, dtype, copy=False, order=order, subok=True)\n"
     ]
    },
    {
     "name": "stdout",
     "output_type": "stream",
     "text": [
      "\t[training] batches count: 1\n",
      "\t[training] loss: 19.141, rec loss: 14.789, kl: 8.704\n",
      "\t[validation] loss: 9.713, rec loss: 9.713, kl: 8.016\n"
     ]
    },
    {
     "name": "stderr",
     "output_type": "stream",
     "text": [
      "/usr/local/lib/python3.7/dist-packages/numpy/core/_asarray.py:136: VisibleDeprecationWarning: Creating an ndarray from ragged nested sequences (which is a list-or-tuple of lists-or-tuples-or ndarrays with different lengths or shapes) is deprecated. If you meant to do this, you must specify 'dtype=object' when creating the ndarray\n",
      "  return array(a, dtype, copy=False, order=order, subok=True)\n"
     ]
    },
    {
     "name": "stdout",
     "output_type": "stream",
     "text": [
      "\t[training] batches count: 1\n",
      "\t[training] loss: 13.888, rec loss: 9.902, kl: 7.971\n",
      "\t[validation] loss: 7.831, rec loss: 7.831, kl: 7.234\n"
     ]
    },
    {
     "name": "stderr",
     "output_type": "stream",
     "text": [
      "/usr/local/lib/python3.7/dist-packages/numpy/core/_asarray.py:136: VisibleDeprecationWarning: Creating an ndarray from ragged nested sequences (which is a list-or-tuple of lists-or-tuples-or ndarrays with different lengths or shapes) is deprecated. If you meant to do this, you must specify 'dtype=object' when creating the ndarray\n",
      "  return array(a, dtype, copy=False, order=order, subok=True)\n"
     ]
    },
    {
     "name": "stdout",
     "output_type": "stream",
     "text": [
      "\t[training] batches count: 1\n",
      "\t[training] loss: 11.962, rec loss: 8.390, kl: 7.143\n",
      "\t[validation] loss: 7.964, rec loss: 7.964, kl: 6.877\n"
     ]
    },
    {
     "name": "stderr",
     "output_type": "stream",
     "text": [
      "/usr/local/lib/python3.7/dist-packages/numpy/core/_asarray.py:136: VisibleDeprecationWarning: Creating an ndarray from ragged nested sequences (which is a list-or-tuple of lists-or-tuples-or ndarrays with different lengths or shapes) is deprecated. If you meant to do this, you must specify 'dtype=object' when creating the ndarray\n",
      "  return array(a, dtype, copy=False, order=order, subok=True)\n"
     ]
    },
    {
     "name": "stdout",
     "output_type": "stream",
     "text": [
      "\t[training] batches count: 1\n",
      "\t[training] loss: 11.579, rec loss: 8.166, kl: 6.824\n",
      "\t[validation] loss: 6.874, rec loss: 6.874, kl: 7.100\n"
     ]
    },
    {
     "name": "stderr",
     "output_type": "stream",
     "text": [
      "/usr/local/lib/python3.7/dist-packages/numpy/core/_asarray.py:136: VisibleDeprecationWarning: Creating an ndarray from ragged nested sequences (which is a list-or-tuple of lists-or-tuples-or ndarrays with different lengths or shapes) is deprecated. If you meant to do this, you must specify 'dtype=object' when creating the ndarray\n",
      "  return array(a, dtype, copy=False, order=order, subok=True)\n"
     ]
    },
    {
     "name": "stdout",
     "output_type": "stream",
     "text": [
      "\t[training] batches count: 1\n",
      "\t[training] loss: 10.781, rec loss: 7.265, kl: 7.032\n",
      "\t[validation] loss: 6.355, rec loss: 6.355, kl: 7.416\n"
     ]
    },
    {
     "name": "stderr",
     "output_type": "stream",
     "text": [
      "/usr/local/lib/python3.7/dist-packages/numpy/core/_asarray.py:136: VisibleDeprecationWarning: Creating an ndarray from ragged nested sequences (which is a list-or-tuple of lists-or-tuples-or ndarrays with different lengths or shapes) is deprecated. If you meant to do this, you must specify 'dtype=object' when creating the ndarray\n",
      "  return array(a, dtype, copy=False, order=order, subok=True)\n"
     ]
    },
    {
     "name": "stdout",
     "output_type": "stream",
     "text": [
      "\t[training] batches count: 1\n",
      "\t[training] loss: 10.495, rec loss: 6.791, kl: 7.409\n",
      "\t[validation] loss: 6.140, rec loss: 6.140, kl: 7.593\n"
     ]
    },
    {
     "name": "stderr",
     "output_type": "stream",
     "text": [
      "/usr/local/lib/python3.7/dist-packages/numpy/core/_asarray.py:136: VisibleDeprecationWarning: Creating an ndarray from ragged nested sequences (which is a list-or-tuple of lists-or-tuples-or ndarrays with different lengths or shapes) is deprecated. If you meant to do this, you must specify 'dtype=object' when creating the ndarray\n",
      "  return array(a, dtype, copy=False, order=order, subok=True)\n"
     ]
    },
    {
     "name": "stdout",
     "output_type": "stream",
     "text": [
      "\t[training] batches count: 1\n",
      "\t[training] loss: 9.963, rec loss: 6.247, kl: 7.432\n",
      "\t[validation] loss: 5.890, rec loss: 5.890, kl: 7.402\n"
     ]
    },
    {
     "name": "stderr",
     "output_type": "stream",
     "text": [
      "/usr/local/lib/python3.7/dist-packages/numpy/core/_asarray.py:136: VisibleDeprecationWarning: Creating an ndarray from ragged nested sequences (which is a list-or-tuple of lists-or-tuples-or ndarrays with different lengths or shapes) is deprecated. If you meant to do this, you must specify 'dtype=object' when creating the ndarray\n",
      "  return array(a, dtype, copy=False, order=order, subok=True)\n"
     ]
    },
    {
     "name": "stdout",
     "output_type": "stream",
     "text": [
      "\t[training] batches count: 1\n",
      "\t[training] loss: 9.921, rec loss: 6.248, kl: 7.346\n",
      "\t[validation] loss: 5.536, rec loss: 5.536, kl: 7.398\n"
     ]
    },
    {
     "name": "stderr",
     "output_type": "stream",
     "text": [
      "/usr/local/lib/python3.7/dist-packages/numpy/core/_asarray.py:136: VisibleDeprecationWarning: Creating an ndarray from ragged nested sequences (which is a list-or-tuple of lists-or-tuples-or ndarrays with different lengths or shapes) is deprecated. If you meant to do this, you must specify 'dtype=object' when creating the ndarray\n",
      "  return array(a, dtype, copy=False, order=order, subok=True)\n"
     ]
    },
    {
     "name": "stdout",
     "output_type": "stream",
     "text": [
      "\t[training] batches count: 1\n",
      "\t[training] loss: 9.400, rec loss: 5.735, kl: 7.330\n",
      "\t[validation] loss: 5.540, rec loss: 5.540, kl: 7.180\n"
     ]
    },
    {
     "name": "stderr",
     "output_type": "stream",
     "text": [
      "/usr/local/lib/python3.7/dist-packages/numpy/core/_asarray.py:136: VisibleDeprecationWarning: Creating an ndarray from ragged nested sequences (which is a list-or-tuple of lists-or-tuples-or ndarrays with different lengths or shapes) is deprecated. If you meant to do this, you must specify 'dtype=object' when creating the ndarray\n",
      "  return array(a, dtype, copy=False, order=order, subok=True)\n"
     ]
    }
   ],
   "source": [
    "vs.solve(f, epochs=50)"
   ]
  },
  {
   "cell_type": "code",
   "execution_count": null,
   "metadata": {
    "id": "fAaSYUT0F-Sl"
   },
   "outputs": [],
   "source": []
  }
 ],
 "metadata": {
  "accelerator": "GPU",
  "colab": {
   "collapsed_sections": [],
   "name": "vae_main_repo.ipynb",
   "provenance": []
  },
  "kernelspec": {
   "display_name": "Python 3",
   "language": "python",
   "name": "python3"
  },
  "language_info": {
   "codemirror_mode": {
    "name": "ipython",
    "version": 3
   },
   "file_extension": ".py",
   "mimetype": "text/x-python",
   "name": "python",
   "nbconvert_exporter": "python",
   "pygments_lexer": "ipython3",
   "version": "3.7.1"
  }
 },
 "nbformat": 4,
 "nbformat_minor": 1
}
