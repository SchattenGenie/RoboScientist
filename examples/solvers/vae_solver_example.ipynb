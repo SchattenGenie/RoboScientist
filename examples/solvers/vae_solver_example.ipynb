{
  "nbformat": 4,
  "nbformat_minor": 0,
  "metadata": {
    "colab": {
      "name": "vae_main_repo.ipynb",
      "provenance": [],
      "collapsed_sections": []
    },
    "kernelspec": {
      "name": "python3",
      "display_name": "Python 3"
    },
    "language_info": {
      "name": "python"
    },
    "accelerator": "GPU"
  },
  "cells": [
    {
      "cell_type": "code",
      "metadata": {
        "colab": {
          "base_uri": "https://localhost:8080/"
        },
        "id": "eTAo-PHRe5zT",
        "outputId": "19e2caa7-a5b2-48f0-a472-69b6a7301883"
      },
      "source": [
        "!pip install wandb\n",
        "!pip install scikit-optimize"
      ],
      "execution_count": 3,
      "outputs": [
        {
          "output_type": "stream",
          "text": [
            "Requirement already satisfied: wandb in /usr/local/lib/python3.7/dist-packages (0.10.25)\n",
            "Requirement already satisfied: psutil>=5.0.0 in /usr/local/lib/python3.7/dist-packages (from wandb) (5.4.8)\n",
            "Requirement already satisfied: subprocess32>=3.5.3 in /usr/local/lib/python3.7/dist-packages (from wandb) (3.5.4)\n",
            "Requirement already satisfied: configparser>=3.8.1 in /usr/local/lib/python3.7/dist-packages (from wandb) (5.0.2)\n",
            "Requirement already satisfied: requests<3,>=2.0.0 in /usr/local/lib/python3.7/dist-packages (from wandb) (2.23.0)\n",
            "Requirement already satisfied: docker-pycreds>=0.4.0 in /usr/local/lib/python3.7/dist-packages (from wandb) (0.4.0)\n",
            "Requirement already satisfied: python-dateutil>=2.6.1 in /usr/local/lib/python3.7/dist-packages (from wandb) (2.8.1)\n",
            "Requirement already satisfied: PyYAML in /usr/local/lib/python3.7/dist-packages (from wandb) (3.13)\n",
            "Requirement already satisfied: protobuf>=3.12.0 in /usr/local/lib/python3.7/dist-packages (from wandb) (3.12.4)\n",
            "Requirement already satisfied: pathtools in /usr/local/lib/python3.7/dist-packages (from wandb) (0.1.2)\n",
            "Requirement already satisfied: promise<3,>=2.0 in /usr/local/lib/python3.7/dist-packages (from wandb) (2.3)\n",
            "Requirement already satisfied: sentry-sdk>=0.4.0 in /usr/local/lib/python3.7/dist-packages (from wandb) (1.0.0)\n",
            "Requirement already satisfied: Click>=7.0 in /usr/local/lib/python3.7/dist-packages (from wandb) (7.1.2)\n",
            "Requirement already satisfied: GitPython>=1.0.0 in /usr/local/lib/python3.7/dist-packages (from wandb) (3.1.14)\n",
            "Requirement already satisfied: six>=1.13.0 in /usr/local/lib/python3.7/dist-packages (from wandb) (1.15.0)\n",
            "Requirement already satisfied: shortuuid>=0.5.0 in /usr/local/lib/python3.7/dist-packages (from wandb) (1.0.1)\n",
            "Requirement already satisfied: certifi>=2017.4.17 in /usr/local/lib/python3.7/dist-packages (from requests<3,>=2.0.0->wandb) (2020.12.5)\n",
            "Requirement already satisfied: urllib3!=1.25.0,!=1.25.1,<1.26,>=1.21.1 in /usr/local/lib/python3.7/dist-packages (from requests<3,>=2.0.0->wandb) (1.24.3)\n",
            "Requirement already satisfied: idna<3,>=2.5 in /usr/local/lib/python3.7/dist-packages (from requests<3,>=2.0.0->wandb) (2.10)\n",
            "Requirement already satisfied: chardet<4,>=3.0.2 in /usr/local/lib/python3.7/dist-packages (from requests<3,>=2.0.0->wandb) (3.0.4)\n",
            "Requirement already satisfied: setuptools in /usr/local/lib/python3.7/dist-packages (from protobuf>=3.12.0->wandb) (54.2.0)\n",
            "Requirement already satisfied: gitdb<5,>=4.0.1 in /usr/local/lib/python3.7/dist-packages (from GitPython>=1.0.0->wandb) (4.0.7)\n",
            "Requirement already satisfied: smmap<5,>=3.0.1 in /usr/local/lib/python3.7/dist-packages (from gitdb<5,>=4.0.1->GitPython>=1.0.0->wandb) (4.0.0)\n",
            "Requirement already satisfied: scikit-optimize in /usr/local/lib/python3.7/dist-packages (0.8.1)\n",
            "Requirement already satisfied: numpy>=1.13.3 in /usr/local/lib/python3.7/dist-packages (from scikit-optimize) (1.19.5)\n",
            "Requirement already satisfied: joblib>=0.11 in /usr/local/lib/python3.7/dist-packages (from scikit-optimize) (1.0.1)\n",
            "Requirement already satisfied: pyaml>=16.9 in /usr/local/lib/python3.7/dist-packages (from scikit-optimize) (20.4.0)\n",
            "Requirement already satisfied: scikit-learn>=0.20.0 in /usr/local/lib/python3.7/dist-packages (from scikit-optimize) (0.22.2.post1)\n",
            "Requirement already satisfied: scipy>=0.19.1 in /usr/local/lib/python3.7/dist-packages (from scikit-optimize) (1.4.1)\n",
            "Requirement already satisfied: PyYAML in /usr/local/lib/python3.7/dist-packages (from pyaml>=16.9->scikit-optimize) (3.13)\n"
          ],
          "name": "stdout"
        }
      ]
    },
    {
      "cell_type": "code",
      "metadata": {
        "id": "wXqmR-g5p9mn"
      },
      "source": [
        "from roboscientist.models.vae_solver import VAESolver, VAESolverParams\n",
        "from roboscientist.logger import single_formula_logger\n",
        "import numpy as np\n",
        "import torch"
      ],
      "execution_count": 4,
      "outputs": []
    },
    {
      "cell_type": "code",
      "metadata": {
        "id": "9Y8SIN11eb1U"
      },
      "source": [
        "from roboscientist.datasets import equations_utils, equations_base\n",
        "import numpy as np\n",
        "f = equations_utils.infix_to_expr(['Add', 'Mul', \"Add\", \"sin\", \"Symbol('x0')\", \"Symbol('x0')\", 'sin', \"Symbol('x0')\", 'cos', 'cos', \"Symbol('x0')\"])\n",
        "f = equations_base.Equation(f)\n",
        "f.add_observation(np.linspace(0.1, 2, num=100).reshape(-1, 1))\n",
        "X, y_true = f.dataset"
      ],
      "execution_count": 6,
      "outputs": []
    },
    {
      "cell_type": "code",
      "metadata": {
        "colab": {
          "base_uri": "https://localhost:8080/",
          "height": 1000
        },
        "id": "O23UxNV4qTOS",
        "outputId": "75e26ceb-c0c7-481c-f026-72f23c9759cc"
      },
      "source": [
        "vs = VAESolver(single_formula_logger.SingleFormulaLogger('test', 'test', {}), \n",
        "               VAESolverParams(device=torch.device('cuda'), \n",
        "                               kl_coef=0.5, percentile=5,\n",
        "                               xs=X, ys=y_true))"
      ],
      "execution_count": 7,
      "outputs": [
        {
          "output_type": "stream",
          "text": [
            "\u001b[34m\u001b[1mwandb\u001b[0m: Currently logged in as: \u001b[33mnuwanda57\u001b[0m (use `wandb login --relogin` to force relogin)\n"
          ],
          "name": "stderr"
        },
        {
          "output_type": "display_data",
          "data": {
            "text/html": [
              "\n",
              "                Tracking run with wandb version 0.10.25<br/>\n",
              "                Syncing run <strong style=\"color:#cdcd00\">test</strong> to <a href=\"https://wandb.ai\" target=\"_blank\">Weights & Biases</a> <a href=\"https://docs.wandb.com/integrations/jupyter.html\" target=\"_blank\">(Documentation)</a>.<br/>\n",
              "                Project page: <a href=\"https://wandb.ai/nuwanda57/test\" target=\"_blank\">https://wandb.ai/nuwanda57/test</a><br/>\n",
              "                Run page: <a href=\"https://wandb.ai/nuwanda57/test/runs/1nei58se\" target=\"_blank\">https://wandb.ai/nuwanda57/test/runs/1nei58se</a><br/>\n",
              "                Run data is saved locally in <code>/content/RoboScientist/src/wandb/run-20210408_215602-1nei58se</code><br/><br/>\n",
              "            "
            ],
            "text/plain": [
              "<IPython.core.display.HTML object>"
            ]
          },
          "metadata": {
            "tags": []
          }
        },
        {
          "output_type": "stream",
          "text": [
            "\t[training] batches count: 79\n",
            "\t[training] loss: 17.705, rec loss: 17.639, kl: 0.131\n",
            "\t[validation] loss: 14.574, rec loss: 14.574, kl: 0.239\n",
            "\t[training] batches count: 79\n",
            "\t[training] loss: 14.937, rec loss: 14.765, kl: 0.343\n",
            "\t[validation] loss: 13.816, rec loss: 13.816, kl: 0.476\n",
            "\t[training] batches count: 79\n",
            "\t[training] loss: 14.491, rec loss: 14.199, kl: 0.585\n",
            "\t[validation] loss: 13.404, rec loss: 13.404, kl: 0.667\n",
            "\t[training] batches count: 79\n",
            "\t[training] loss: 14.221, rec loss: 13.798, kl: 0.846\n",
            "\t[validation] loss: 13.252, rec loss: 13.252, kl: 1.075\n",
            "\t[training] batches count: 79\n",
            "\t[training] loss: 14.092, rec loss: 13.471, kl: 1.243\n",
            "\t[validation] loss: 12.669, rec loss: 12.669, kl: 1.453\n",
            "\t[training] batches count: 79\n",
            "\t[training] loss: 13.861, rec loss: 13.032, kl: 1.658\n",
            "\t[validation] loss: 12.546, rec loss: 12.546, kl: 1.854\n",
            "\t[training] batches count: 79\n",
            "\t[training] loss: 13.719, rec loss: 12.690, kl: 2.059\n",
            "\t[validation] loss: 11.914, rec loss: 11.914, kl: 2.236\n",
            "\t[training] batches count: 79\n",
            "\t[training] loss: 13.587, rec loss: 12.391, kl: 2.393\n",
            "\t[validation] loss: 11.914, rec loss: 11.914, kl: 2.556\n",
            "\t[training] batches count: 79\n",
            "\t[training] loss: 13.468, rec loss: 12.127, kl: 2.683\n",
            "\t[validation] loss: 11.477, rec loss: 11.477, kl: 2.682\n",
            "\t[training] batches count: 79\n",
            "\t[training] loss: 13.388, rec loss: 11.932, kl: 2.912\n",
            "\t[validation] loss: 11.550, rec loss: 11.550, kl: 3.143\n",
            "\t[training] batches count: 79\n",
            "\t[training] loss: 13.233, rec loss: 11.643, kl: 3.181\n",
            "\t[validation] loss: 10.853, rec loss: 10.853, kl: 3.341\n",
            "\t[training] batches count: 79\n",
            "\t[training] loss: 13.195, rec loss: 11.476, kl: 3.439\n",
            "\t[validation] loss: 10.814, rec loss: 10.814, kl: 3.576\n",
            "\t[training] batches count: 79\n",
            "\t[training] loss: 13.105, rec loss: 11.289, kl: 3.632\n",
            "\t[validation] loss: 10.848, rec loss: 10.848, kl: 3.749\n",
            "\t[training] batches count: 79\n",
            "\t[training] loss: 13.021, rec loss: 11.099, kl: 3.843\n",
            "\t[validation] loss: 10.630, rec loss: 10.630, kl: 3.776\n",
            "\t[training] batches count: 79\n",
            "\t[training] loss: 12.953, rec loss: 10.941, kl: 4.024\n",
            "\t[validation] loss: 10.149, rec loss: 10.149, kl: 4.210\n",
            "\t[training] batches count: 79\n",
            "\t[training] loss: 12.860, rec loss: 10.688, kl: 4.344\n",
            "\t[validation] loss: 10.210, rec loss: 10.210, kl: 4.225\n",
            "\t[training] batches count: 79\n",
            "\t[training] loss: 12.821, rec loss: 10.578, kl: 4.487\n",
            "\t[validation] loss: 9.818, rec loss: 9.818, kl: 4.482\n",
            "\t[training] batches count: 79\n",
            "\t[training] loss: 12.694, rec loss: 10.350, kl: 4.689\n",
            "\t[validation] loss: 10.102, rec loss: 10.102, kl: 4.785\n",
            "\t[training] batches count: 79\n",
            "\t[training] loss: 12.750, rec loss: 10.339, kl: 4.822\n",
            "\t[validation] loss: 9.481, rec loss: 9.481, kl: 4.997\n",
            "\t[training] batches count: 79\n",
            "\t[training] loss: 12.490, rec loss: 9.899, kl: 5.182\n",
            "\t[validation] loss: 9.469, rec loss: 9.469, kl: 5.354\n",
            "\t[training] batches count: 79\n",
            "\t[training] loss: 12.501, rec loss: 9.816, kl: 5.370\n",
            "\t[validation] loss: 9.215, rec loss: 9.215, kl: 5.222\n",
            "\t[training] batches count: 79\n",
            "\t[training] loss: 12.496, rec loss: 9.729, kl: 5.535\n",
            "\t[validation] loss: 9.175, rec loss: 9.175, kl: 5.559\n",
            "\t[training] batches count: 79\n",
            "\t[training] loss: 12.318, rec loss: 9.441, kl: 5.754\n",
            "\t[validation] loss: 8.867, rec loss: 8.867, kl: 5.831\n",
            "\t[training] batches count: 79\n",
            "\t[training] loss: 12.356, rec loss: 9.377, kl: 5.958\n",
            "\t[validation] loss: 8.537, rec loss: 8.537, kl: 6.035\n",
            "\t[training] batches count: 79\n",
            "\t[training] loss: 12.139, rec loss: 9.003, kl: 6.271\n",
            "\t[validation] loss: 8.765, rec loss: 8.765, kl: 6.069\n",
            "\t[training] batches count: 79\n",
            "\t[training] loss: 12.195, rec loss: 8.997, kl: 6.397\n",
            "\t[validation] loss: 8.043, rec loss: 8.043, kl: 6.580\n",
            "\t[training] batches count: 79\n",
            "\t[training] loss: 12.051, rec loss: 8.709, kl: 6.683\n",
            "\t[validation] loss: 7.973, rec loss: 7.973, kl: 6.699\n",
            "\t[training] batches count: 79\n",
            "\t[training] loss: 12.020, rec loss: 8.589, kl: 6.862\n",
            "\t[validation] loss: 8.484, rec loss: 8.484, kl: 6.861\n",
            "\t[training] batches count: 79\n",
            "\t[training] loss: 11.976, rec loss: 8.526, kl: 6.899\n",
            "\t[validation] loss: 7.645, rec loss: 7.645, kl: 7.142\n",
            "\t[training] batches count: 79\n",
            "\t[training] loss: 11.878, rec loss: 8.283, kl: 7.189\n",
            "\t[validation] loss: 7.812, rec loss: 7.812, kl: 7.203\n",
            "\t[training] batches count: 79\n",
            "\t[training] loss: 11.956, rec loss: 8.365, kl: 7.182\n",
            "\t[validation] loss: 7.432, rec loss: 7.432, kl: 7.244\n",
            "\t[training] batches count: 79\n",
            "\t[training] loss: 11.769, rec loss: 8.022, kl: 7.494\n",
            "\t[validation] loss: 7.219, rec loss: 7.219, kl: 7.626\n",
            "\t[training] batches count: 79\n",
            "\t[training] loss: 11.709, rec loss: 7.878, kl: 7.663\n",
            "\t[validation] loss: 7.159, rec loss: 7.159, kl: 7.809\n",
            "\t[training] batches count: 79\n",
            "\t[training] loss: 11.648, rec loss: 7.718, kl: 7.861\n",
            "\t[validation] loss: 7.086, rec loss: 7.086, kl: 7.773\n",
            "\t[training] batches count: 79\n",
            "\t[training] loss: 11.571, rec loss: 7.576, kl: 7.990\n",
            "\t[validation] loss: 6.854, rec loss: 6.854, kl: 8.037\n",
            "\t[training] batches count: 79\n",
            "\t[training] loss: 11.598, rec loss: 7.528, kl: 8.139\n",
            "\t[validation] loss: 6.773, rec loss: 6.773, kl: 8.103\n",
            "\t[training] batches count: 79\n",
            "\t[training] loss: 11.500, rec loss: 7.393, kl: 8.215\n",
            "\t[validation] loss: 6.586, rec loss: 6.586, kl: 8.319\n",
            "\t[training] batches count: 79\n",
            "\t[training] loss: 11.425, rec loss: 7.256, kl: 8.339\n",
            "\t[validation] loss: 6.662, rec loss: 6.662, kl: 8.235\n",
            "\t[training] batches count: 79\n",
            "\t[training] loss: 11.577, rec loss: 7.385, kl: 8.383\n",
            "\t[validation] loss: 6.533, rec loss: 6.533, kl: 8.228\n",
            "\t[training] batches count: 79\n",
            "\t[training] loss: 11.418, rec loss: 7.163, kl: 8.511\n",
            "\t[validation] loss: 6.335, rec loss: 6.335, kl: 8.487\n",
            "\t[training] batches count: 79\n",
            "\t[training] loss: 11.266, rec loss: 6.923, kl: 8.687\n",
            "\t[validation] loss: 6.380, rec loss: 6.380, kl: 8.620\n",
            "\t[training] batches count: 79\n",
            "\t[training] loss: 11.339, rec loss: 6.983, kl: 8.711\n",
            "\t[validation] loss: 6.061, rec loss: 6.061, kl: 8.864\n",
            "\t[training] batches count: 79\n",
            "\t[training] loss: 11.240, rec loss: 6.796, kl: 8.888\n",
            "\t[validation] loss: 6.562, rec loss: 6.562, kl: 8.955\n",
            "\t[training] batches count: 79\n",
            "\t[training] loss: 11.436, rec loss: 6.970, kl: 8.932\n",
            "\t[validation] loss: 7.492, rec loss: 7.492, kl: 8.620\n",
            "\t[training] batches count: 79\n",
            "\t[training] loss: 11.304, rec loss: 6.895, kl: 8.818\n",
            "\t[validation] loss: 6.063, rec loss: 6.063, kl: 8.869\n",
            "\t[training] batches count: 79\n",
            "\t[training] loss: 11.145, rec loss: 6.603, kl: 9.083\n",
            "\t[validation] loss: 6.827, rec loss: 6.827, kl: 9.137\n",
            "\t[training] batches count: 79\n",
            "\t[training] loss: 11.136, rec loss: 6.567, kl: 9.138\n",
            "\t[validation] loss: 5.939, rec loss: 5.939, kl: 9.113\n",
            "\t[training] batches count: 79\n",
            "\t[training] loss: 11.074, rec loss: 6.408, kl: 9.331\n",
            "\t[validation] loss: 7.124, rec loss: 7.124, kl: 9.192\n",
            "\t[training] batches count: 79\n",
            "\t[training] loss: 11.139, rec loss: 6.492, kl: 9.294\n",
            "\t[validation] loss: 5.695, rec loss: 5.695, kl: 9.353\n",
            "\t[training] batches count: 79\n",
            "\t[training] loss: 11.084, rec loss: 6.391, kl: 9.388\n",
            "\t[validation] loss: 5.698, rec loss: 5.698, kl: 9.342\n"
          ],
          "name": "stdout"
        }
      ]
    },
    {
      "cell_type": "code",
      "metadata": {
        "colab": {
          "base_uri": "https://localhost:8080/"
        },
        "id": "7JFnAL9QtRBz",
        "outputId": "6517724b-b594-435d-81ef-11a50aa477c1"
      },
      "source": [
        "vs.solve(f, epochs=50)"
      ],
      "execution_count": 8,
      "outputs": [
        {
          "output_type": "stream",
          "text": [
            "/usr/local/lib/python3.7/dist-packages/numpy/core/_asarray.py:136: VisibleDeprecationWarning: Creating an ndarray from ragged nested sequences (which is a list-or-tuple of lists-or-tuples-or ndarrays with different lengths or shapes) is deprecated. If you meant to do this, you must specify 'dtype=object' when creating the ndarray\n",
            "  return array(a, dtype, copy=False, order=order, subok=True)\n"
          ],
          "name": "stderr"
        },
        {
          "output_type": "stream",
          "text": [
            "\t[training] batches count: 1\n",
            "\t[training] loss: 10.006, rec loss: 5.966, kl: 8.081\n",
            "\t[validation] loss: 5.347, rec loss: 5.347, kl: 8.745\n"
          ],
          "name": "stdout"
        },
        {
          "output_type": "stream",
          "text": [
            "/usr/local/lib/python3.7/dist-packages/numpy/core/_asarray.py:136: VisibleDeprecationWarning: Creating an ndarray from ragged nested sequences (which is a list-or-tuple of lists-or-tuples-or ndarrays with different lengths or shapes) is deprecated. If you meant to do this, you must specify 'dtype=object' when creating the ndarray\n",
            "  return array(a, dtype, copy=False, order=order, subok=True)\n"
          ],
          "name": "stderr"
        },
        {
          "output_type": "stream",
          "text": [
            "\t[training] batches count: 1\n",
            "\t[training] loss: 9.950, rec loss: 5.637, kl: 8.627\n",
            "\t[validation] loss: 5.095, rec loss: 5.095, kl: 9.017\n"
          ],
          "name": "stdout"
        },
        {
          "output_type": "stream",
          "text": [
            "/usr/local/lib/python3.7/dist-packages/numpy/core/_asarray.py:136: VisibleDeprecationWarning: Creating an ndarray from ragged nested sequences (which is a list-or-tuple of lists-or-tuples-or ndarrays with different lengths or shapes) is deprecated. If you meant to do this, you must specify 'dtype=object' when creating the ndarray\n",
            "  return array(a, dtype, copy=False, order=order, subok=True)\n"
          ],
          "name": "stderr"
        },
        {
          "output_type": "stream",
          "text": [
            "\t[training] batches count: 1\n",
            "\t[training] loss: 10.004, rec loss: 5.478, kl: 9.053\n",
            "\t[validation] loss: 4.989, rec loss: 4.989, kl: 8.773\n"
          ],
          "name": "stdout"
        },
        {
          "output_type": "stream",
          "text": [
            "/usr/local/lib/python3.7/dist-packages/numpy/core/_asarray.py:136: VisibleDeprecationWarning: Creating an ndarray from ragged nested sequences (which is a list-or-tuple of lists-or-tuples-or ndarrays with different lengths or shapes) is deprecated. If you meant to do this, you must specify 'dtype=object' when creating the ndarray\n",
            "  return array(a, dtype, copy=False, order=order, subok=True)\n"
          ],
          "name": "stderr"
        },
        {
          "output_type": "stream",
          "text": [
            "\t[training] batches count: 1\n",
            "\t[training] loss: 9.817, rec loss: 5.470, kl: 8.695\n",
            "\t[validation] loss: 4.822, rec loss: 4.822, kl: 8.704\n"
          ],
          "name": "stdout"
        },
        {
          "output_type": "stream",
          "text": [
            "/usr/local/lib/python3.7/dist-packages/numpy/core/_asarray.py:136: VisibleDeprecationWarning: Creating an ndarray from ragged nested sequences (which is a list-or-tuple of lists-or-tuples-or ndarrays with different lengths or shapes) is deprecated. If you meant to do this, you must specify 'dtype=object' when creating the ndarray\n",
            "  return array(a, dtype, copy=False, order=order, subok=True)\n"
          ],
          "name": "stderr"
        },
        {
          "output_type": "stream",
          "text": [
            "\t[training] batches count: 1\n",
            "\t[training] loss: 9.649, rec loss: 5.308, kl: 8.680\n",
            "\t[validation] loss: 5.318, rec loss: 5.318, kl: 8.816\n"
          ],
          "name": "stdout"
        },
        {
          "output_type": "stream",
          "text": [
            "/usr/local/lib/python3.7/dist-packages/numpy/core/_asarray.py:136: VisibleDeprecationWarning: Creating an ndarray from ragged nested sequences (which is a list-or-tuple of lists-or-tuples-or ndarrays with different lengths or shapes) is deprecated. If you meant to do this, you must specify 'dtype=object' when creating the ndarray\n",
            "  return array(a, dtype, copy=False, order=order, subok=True)\n"
          ],
          "name": "stderr"
        },
        {
          "output_type": "stream",
          "text": [
            "\t[training] batches count: 1\n",
            "\t[training] loss: 9.884, rec loss: 5.511, kl: 8.748\n",
            "\t[validation] loss: 5.853, rec loss: 5.853, kl: 8.624\n"
          ],
          "name": "stdout"
        },
        {
          "output_type": "stream",
          "text": [
            "/usr/local/lib/python3.7/dist-packages/numpy/core/_asarray.py:136: VisibleDeprecationWarning: Creating an ndarray from ragged nested sequences (which is a list-or-tuple of lists-or-tuples-or ndarrays with different lengths or shapes) is deprecated. If you meant to do this, you must specify 'dtype=object' when creating the ndarray\n",
            "  return array(a, dtype, copy=False, order=order, subok=True)\n"
          ],
          "name": "stderr"
        },
        {
          "output_type": "stream",
          "text": [
            "\t[training] batches count: 1\n",
            "\t[training] loss: 10.703, rec loss: 6.381, kl: 8.643\n",
            "\t[validation] loss: 5.007, rec loss: 5.007, kl: 8.590\n"
          ],
          "name": "stdout"
        },
        {
          "output_type": "stream",
          "text": [
            "/usr/local/lib/python3.7/dist-packages/numpy/core/_asarray.py:136: VisibleDeprecationWarning: Creating an ndarray from ragged nested sequences (which is a list-or-tuple of lists-or-tuples-or ndarrays with different lengths or shapes) is deprecated. If you meant to do this, you must specify 'dtype=object' when creating the ndarray\n",
            "  return array(a, dtype, copy=False, order=order, subok=True)\n"
          ],
          "name": "stderr"
        },
        {
          "output_type": "stream",
          "text": [
            "\t[training] batches count: 1\n",
            "\t[training] loss: 9.691, rec loss: 5.456, kl: 8.470\n",
            "\t[validation] loss: 5.040, rec loss: 5.040, kl: 8.474\n"
          ],
          "name": "stdout"
        },
        {
          "output_type": "stream",
          "text": [
            "/usr/local/lib/python3.7/dist-packages/numpy/core/_asarray.py:136: VisibleDeprecationWarning: Creating an ndarray from ragged nested sequences (which is a list-or-tuple of lists-or-tuples-or ndarrays with different lengths or shapes) is deprecated. If you meant to do this, you must specify 'dtype=object' when creating the ndarray\n",
            "  return array(a, dtype, copy=False, order=order, subok=True)\n"
          ],
          "name": "stderr"
        },
        {
          "output_type": "stream",
          "text": [
            "\t[training] batches count: 1\n",
            "\t[training] loss: 9.447, rec loss: 5.227, kl: 8.440\n",
            "\t[validation] loss: 4.832, rec loss: 4.832, kl: 8.275\n"
          ],
          "name": "stdout"
        },
        {
          "output_type": "stream",
          "text": [
            "/usr/local/lib/python3.7/dist-packages/numpy/core/_asarray.py:136: VisibleDeprecationWarning: Creating an ndarray from ragged nested sequences (which is a list-or-tuple of lists-or-tuples-or ndarrays with different lengths or shapes) is deprecated. If you meant to do this, you must specify 'dtype=object' when creating the ndarray\n",
            "  return array(a, dtype, copy=False, order=order, subok=True)\n"
          ],
          "name": "stderr"
        },
        {
          "output_type": "stream",
          "text": [
            "\t[training] batches count: 1\n",
            "\t[training] loss: 9.218, rec loss: 5.154, kl: 8.128\n",
            "\t[validation] loss: 4.787, rec loss: 4.787, kl: 8.130\n"
          ],
          "name": "stdout"
        },
        {
          "output_type": "stream",
          "text": [
            "/usr/local/lib/python3.7/dist-packages/numpy/core/_asarray.py:136: VisibleDeprecationWarning: Creating an ndarray from ragged nested sequences (which is a list-or-tuple of lists-or-tuples-or ndarrays with different lengths or shapes) is deprecated. If you meant to do this, you must specify 'dtype=object' when creating the ndarray\n",
            "  return array(a, dtype, copy=False, order=order, subok=True)\n"
          ],
          "name": "stderr"
        },
        {
          "output_type": "stream",
          "text": [
            "\t[training] batches count: 1\n",
            "\t[training] loss: 9.166, rec loss: 5.160, kl: 8.013\n",
            "\t[validation] loss: 4.496, rec loss: 4.496, kl: 8.118\n"
          ],
          "name": "stdout"
        },
        {
          "output_type": "stream",
          "text": [
            "/usr/local/lib/python3.7/dist-packages/numpy/core/_asarray.py:136: VisibleDeprecationWarning: Creating an ndarray from ragged nested sequences (which is a list-or-tuple of lists-or-tuples-or ndarrays with different lengths or shapes) is deprecated. If you meant to do this, you must specify 'dtype=object' when creating the ndarray\n",
            "  return array(a, dtype, copy=False, order=order, subok=True)\n"
          ],
          "name": "stderr"
        },
        {
          "output_type": "stream",
          "text": [
            "\t[training] batches count: 1\n",
            "\t[training] loss: 8.953, rec loss: 4.916, kl: 8.075\n",
            "\t[validation] loss: 4.448, rec loss: 4.448, kl: 8.177\n"
          ],
          "name": "stdout"
        },
        {
          "output_type": "stream",
          "text": [
            "/usr/local/lib/python3.7/dist-packages/numpy/core/_asarray.py:136: VisibleDeprecationWarning: Creating an ndarray from ragged nested sequences (which is a list-or-tuple of lists-or-tuples-or ndarrays with different lengths or shapes) is deprecated. If you meant to do this, you must specify 'dtype=object' when creating the ndarray\n",
            "  return array(a, dtype, copy=False, order=order, subok=True)\n"
          ],
          "name": "stderr"
        },
        {
          "output_type": "stream",
          "text": [
            "\t[training] batches count: 1\n",
            "\t[training] loss: 8.750, rec loss: 4.647, kl: 8.206\n",
            "\t[validation] loss: 4.408, rec loss: 4.408, kl: 8.110\n"
          ],
          "name": "stdout"
        },
        {
          "output_type": "stream",
          "text": [
            "/usr/local/lib/python3.7/dist-packages/numpy/core/_asarray.py:136: VisibleDeprecationWarning: Creating an ndarray from ragged nested sequences (which is a list-or-tuple of lists-or-tuples-or ndarrays with different lengths or shapes) is deprecated. If you meant to do this, you must specify 'dtype=object' when creating the ndarray\n",
            "  return array(a, dtype, copy=False, order=order, subok=True)\n"
          ],
          "name": "stderr"
        },
        {
          "output_type": "stream",
          "text": [
            "\t[training] batches count: 1\n",
            "\t[training] loss: 8.870, rec loss: 4.779, kl: 8.183\n",
            "\t[validation] loss: 4.165, rec loss: 4.165, kl: 8.121\n"
          ],
          "name": "stdout"
        },
        {
          "output_type": "stream",
          "text": [
            "/usr/local/lib/python3.7/dist-packages/numpy/core/_asarray.py:136: VisibleDeprecationWarning: Creating an ndarray from ragged nested sequences (which is a list-or-tuple of lists-or-tuples-or ndarrays with different lengths or shapes) is deprecated. If you meant to do this, you must specify 'dtype=object' when creating the ndarray\n",
            "  return array(a, dtype, copy=False, order=order, subok=True)\n"
          ],
          "name": "stderr"
        },
        {
          "output_type": "stream",
          "text": [
            "\t[training] batches count: 1\n",
            "\t[training] loss: 8.581, rec loss: 4.496, kl: 8.171\n",
            "\t[validation] loss: 4.301, rec loss: 4.301, kl: 8.036\n"
          ],
          "name": "stdout"
        },
        {
          "output_type": "stream",
          "text": [
            "/usr/local/lib/python3.7/dist-packages/numpy/core/_asarray.py:136: VisibleDeprecationWarning: Creating an ndarray from ragged nested sequences (which is a list-or-tuple of lists-or-tuples-or ndarrays with different lengths or shapes) is deprecated. If you meant to do this, you must specify 'dtype=object' when creating the ndarray\n",
            "  return array(a, dtype, copy=False, order=order, subok=True)\n"
          ],
          "name": "stderr"
        },
        {
          "output_type": "stream",
          "text": [
            "\t[training] batches count: 1\n",
            "\t[training] loss: 8.426, rec loss: 4.450, kl: 7.953\n",
            "\t[validation] loss: 4.181, rec loss: 4.181, kl: 7.869\n"
          ],
          "name": "stdout"
        },
        {
          "output_type": "stream",
          "text": [
            "/usr/local/lib/python3.7/dist-packages/numpy/core/_asarray.py:136: VisibleDeprecationWarning: Creating an ndarray from ragged nested sequences (which is a list-or-tuple of lists-or-tuples-or ndarrays with different lengths or shapes) is deprecated. If you meant to do this, you must specify 'dtype=object' when creating the ndarray\n",
            "  return array(a, dtype, copy=False, order=order, subok=True)\n"
          ],
          "name": "stderr"
        },
        {
          "output_type": "stream",
          "text": [
            "\t[training] batches count: 1\n",
            "\t[training] loss: 8.430, rec loss: 4.566, kl: 7.728\n",
            "\t[validation] loss: 4.037, rec loss: 4.037, kl: 7.979\n"
          ],
          "name": "stdout"
        },
        {
          "output_type": "stream",
          "text": [
            "/usr/local/lib/python3.7/dist-packages/numpy/core/_asarray.py:136: VisibleDeprecationWarning: Creating an ndarray from ragged nested sequences (which is a list-or-tuple of lists-or-tuples-or ndarrays with different lengths or shapes) is deprecated. If you meant to do this, you must specify 'dtype=object' when creating the ndarray\n",
            "  return array(a, dtype, copy=False, order=order, subok=True)\n"
          ],
          "name": "stderr"
        },
        {
          "output_type": "stream",
          "text": [
            "\t[training] batches count: 1\n",
            "\t[training] loss: 8.505, rec loss: 4.585, kl: 7.840\n",
            "\t[validation] loss: 3.796, rec loss: 3.796, kl: 8.047\n"
          ],
          "name": "stdout"
        },
        {
          "output_type": "stream",
          "text": [
            "/usr/local/lib/python3.7/dist-packages/numpy/core/_asarray.py:136: VisibleDeprecationWarning: Creating an ndarray from ragged nested sequences (which is a list-or-tuple of lists-or-tuples-or ndarrays with different lengths or shapes) is deprecated. If you meant to do this, you must specify 'dtype=object' when creating the ndarray\n",
            "  return array(a, dtype, copy=False, order=order, subok=True)\n"
          ],
          "name": "stderr"
        },
        {
          "output_type": "stream",
          "text": [
            "\t[training] batches count: 1\n",
            "\t[training] loss: 8.435, rec loss: 4.381, kl: 8.107\n",
            "\t[validation] loss: 4.158, rec loss: 4.158, kl: 7.889\n"
          ],
          "name": "stdout"
        },
        {
          "output_type": "stream",
          "text": [
            "/usr/local/lib/python3.7/dist-packages/numpy/core/_asarray.py:136: VisibleDeprecationWarning: Creating an ndarray from ragged nested sequences (which is a list-or-tuple of lists-or-tuples-or ndarrays with different lengths or shapes) is deprecated. If you meant to do this, you must specify 'dtype=object' when creating the ndarray\n",
            "  return array(a, dtype, copy=False, order=order, subok=True)\n"
          ],
          "name": "stderr"
        },
        {
          "output_type": "stream",
          "text": [
            "\t[training] batches count: 1\n",
            "\t[training] loss: 8.527, rec loss: 4.815, kl: 7.424\n",
            "\t[validation] loss: 3.831, rec loss: 3.831, kl: 7.960\n"
          ],
          "name": "stdout"
        },
        {
          "output_type": "stream",
          "text": [
            "/usr/local/lib/python3.7/dist-packages/numpy/core/_asarray.py:136: VisibleDeprecationWarning: Creating an ndarray from ragged nested sequences (which is a list-or-tuple of lists-or-tuples-or ndarrays with different lengths or shapes) is deprecated. If you meant to do this, you must specify 'dtype=object' when creating the ndarray\n",
            "  return array(a, dtype, copy=False, order=order, subok=True)\n"
          ],
          "name": "stderr"
        },
        {
          "output_type": "stream",
          "text": [
            "\t[training] batches count: 1\n",
            "\t[training] loss: 7.918, rec loss: 3.950, kl: 7.936\n",
            "\t[validation] loss: 3.705, rec loss: 3.705, kl: 7.784\n"
          ],
          "name": "stdout"
        },
        {
          "output_type": "stream",
          "text": [
            "/usr/local/lib/python3.7/dist-packages/numpy/core/_asarray.py:136: VisibleDeprecationWarning: Creating an ndarray from ragged nested sequences (which is a list-or-tuple of lists-or-tuples-or ndarrays with different lengths or shapes) is deprecated. If you meant to do this, you must specify 'dtype=object' when creating the ndarray\n",
            "  return array(a, dtype, copy=False, order=order, subok=True)\n"
          ],
          "name": "stderr"
        },
        {
          "output_type": "stream",
          "text": [
            "\t[training] batches count: 1\n",
            "\t[training] loss: 8.367, rec loss: 4.458, kl: 7.818\n",
            "\t[validation] loss: 4.041, rec loss: 4.041, kl: 7.887\n"
          ],
          "name": "stdout"
        },
        {
          "output_type": "stream",
          "text": [
            "/usr/local/lib/python3.7/dist-packages/numpy/core/_asarray.py:136: VisibleDeprecationWarning: Creating an ndarray from ragged nested sequences (which is a list-or-tuple of lists-or-tuples-or ndarrays with different lengths or shapes) is deprecated. If you meant to do this, you must specify 'dtype=object' when creating the ndarray\n",
            "  return array(a, dtype, copy=False, order=order, subok=True)\n"
          ],
          "name": "stderr"
        },
        {
          "output_type": "stream",
          "text": [
            "\t[training] batches count: 1\n",
            "\t[training] loss: 8.253, rec loss: 4.295, kl: 7.917\n",
            "\t[validation] loss: 4.035, rec loss: 4.035, kl: 7.950\n"
          ],
          "name": "stdout"
        },
        {
          "output_type": "stream",
          "text": [
            "/content/RoboScientist/src/roboscientist/logger/single_formula_logger.py:112: RuntimeWarning: divide by zero encountered in log\n",
            "  np.mean(self._ordered_current_epoch_best_mses[:count]))\n",
            "/content/RoboScientist/src/roboscientist/logger/single_formula_logger.py:113: RuntimeWarning: divide by zero encountered in log\n",
            "  wandb_log[f'best_log_mean_mse_top_{count}'] = np.log(np.mean(self._ordered_best_mses[:count]))\n",
            "/usr/local/lib/python3.7/dist-packages/numpy/core/_asarray.py:136: VisibleDeprecationWarning: Creating an ndarray from ragged nested sequences (which is a list-or-tuple of lists-or-tuples-or ndarrays with different lengths or shapes) is deprecated. If you meant to do this, you must specify 'dtype=object' when creating the ndarray\n",
            "  return array(a, dtype, copy=False, order=order, subok=True)\n"
          ],
          "name": "stderr"
        },
        {
          "output_type": "stream",
          "text": [
            "\t[training] batches count: 1\n",
            "\t[training] loss: 8.387, rec loss: 4.434, kl: 7.906\n",
            "\t[validation] loss: 4.285, rec loss: 4.285, kl: 7.847\n"
          ],
          "name": "stdout"
        },
        {
          "output_type": "stream",
          "text": [
            "/content/RoboScientist/src/roboscientist/logger/single_formula_logger.py:113: RuntimeWarning: divide by zero encountered in log\n",
            "  wandb_log[f'best_log_mean_mse_top_{count}'] = np.log(np.mean(self._ordered_best_mses[:count]))\n",
            "/usr/local/lib/python3.7/dist-packages/numpy/core/_asarray.py:136: VisibleDeprecationWarning: Creating an ndarray from ragged nested sequences (which is a list-or-tuple of lists-or-tuples-or ndarrays with different lengths or shapes) is deprecated. If you meant to do this, you must specify 'dtype=object' when creating the ndarray\n",
            "  return array(a, dtype, copy=False, order=order, subok=True)\n"
          ],
          "name": "stderr"
        },
        {
          "output_type": "stream",
          "text": [
            "\t[training] batches count: 1\n",
            "\t[training] loss: 8.584, rec loss: 4.667, kl: 7.835\n",
            "\t[validation] loss: 4.085, rec loss: 4.085, kl: 7.744\n"
          ],
          "name": "stdout"
        },
        {
          "output_type": "stream",
          "text": [
            "/content/RoboScientist/src/roboscientist/logger/single_formula_logger.py:112: RuntimeWarning: divide by zero encountered in log\n",
            "  np.mean(self._ordered_current_epoch_best_mses[:count]))\n",
            "/content/RoboScientist/src/roboscientist/logger/single_formula_logger.py:113: RuntimeWarning: divide by zero encountered in log\n",
            "  wandb_log[f'best_log_mean_mse_top_{count}'] = np.log(np.mean(self._ordered_best_mses[:count]))\n",
            "/usr/local/lib/python3.7/dist-packages/numpy/core/_asarray.py:136: VisibleDeprecationWarning: Creating an ndarray from ragged nested sequences (which is a list-or-tuple of lists-or-tuples-or ndarrays with different lengths or shapes) is deprecated. If you meant to do this, you must specify 'dtype=object' when creating the ndarray\n",
            "  return array(a, dtype, copy=False, order=order, subok=True)\n"
          ],
          "name": "stderr"
        },
        {
          "output_type": "stream",
          "text": [
            "\t[training] batches count: 1\n",
            "\t[training] loss: 8.319, rec loss: 4.436, kl: 7.767\n",
            "\t[validation] loss: 3.855, rec loss: 3.855, kl: 7.752\n"
          ],
          "name": "stdout"
        },
        {
          "output_type": "stream",
          "text": [
            "/content/RoboScientist/src/roboscientist/logger/single_formula_logger.py:112: RuntimeWarning: divide by zero encountered in log\n",
            "  np.mean(self._ordered_current_epoch_best_mses[:count]))\n",
            "/content/RoboScientist/src/roboscientist/logger/single_formula_logger.py:113: RuntimeWarning: divide by zero encountered in log\n",
            "  wandb_log[f'best_log_mean_mse_top_{count}'] = np.log(np.mean(self._ordered_best_mses[:count]))\n",
            "/usr/local/lib/python3.7/dist-packages/numpy/core/_asarray.py:136: VisibleDeprecationWarning: Creating an ndarray from ragged nested sequences (which is a list-or-tuple of lists-or-tuples-or ndarrays with different lengths or shapes) is deprecated. If you meant to do this, you must specify 'dtype=object' when creating the ndarray\n",
            "  return array(a, dtype, copy=False, order=order, subok=True)\n"
          ],
          "name": "stderr"
        },
        {
          "output_type": "stream",
          "text": [
            "\t[training] batches count: 1\n",
            "\t[training] loss: 8.322, rec loss: 4.418, kl: 7.809\n",
            "\t[validation] loss: 3.971, rec loss: 3.971, kl: 7.798\n"
          ],
          "name": "stdout"
        },
        {
          "output_type": "stream",
          "text": [
            "/content/RoboScientist/src/roboscientist/logger/single_formula_logger.py:113: RuntimeWarning: divide by zero encountered in log\n",
            "  wandb_log[f'best_log_mean_mse_top_{count}'] = np.log(np.mean(self._ordered_best_mses[:count]))\n",
            "/usr/local/lib/python3.7/dist-packages/numpy/core/_asarray.py:136: VisibleDeprecationWarning: Creating an ndarray from ragged nested sequences (which is a list-or-tuple of lists-or-tuples-or ndarrays with different lengths or shapes) is deprecated. If you meant to do this, you must specify 'dtype=object' when creating the ndarray\n",
            "  return array(a, dtype, copy=False, order=order, subok=True)\n"
          ],
          "name": "stderr"
        },
        {
          "output_type": "stream",
          "text": [
            "\t[training] batches count: 1\n",
            "\t[training] loss: 8.138, rec loss: 4.298, kl: 7.680\n",
            "\t[validation] loss: 3.948, rec loss: 3.948, kl: 7.693\n"
          ],
          "name": "stdout"
        },
        {
          "output_type": "stream",
          "text": [
            "/content/RoboScientist/src/roboscientist/logger/single_formula_logger.py:113: RuntimeWarning: divide by zero encountered in log\n",
            "  wandb_log[f'best_log_mean_mse_top_{count}'] = np.log(np.mean(self._ordered_best_mses[:count]))\n",
            "/usr/local/lib/python3.7/dist-packages/numpy/core/_asarray.py:136: VisibleDeprecationWarning: Creating an ndarray from ragged nested sequences (which is a list-or-tuple of lists-or-tuples-or ndarrays with different lengths or shapes) is deprecated. If you meant to do this, you must specify 'dtype=object' when creating the ndarray\n",
            "  return array(a, dtype, copy=False, order=order, subok=True)\n"
          ],
          "name": "stderr"
        },
        {
          "output_type": "stream",
          "text": [
            "\t[training] batches count: 1\n",
            "\t[training] loss: 8.207, rec loss: 4.344, kl: 7.727\n",
            "\t[validation] loss: 4.030, rec loss: 4.030, kl: 7.660\n"
          ],
          "name": "stdout"
        },
        {
          "output_type": "stream",
          "text": [
            "/content/RoboScientist/src/roboscientist/logger/single_formula_logger.py:113: RuntimeWarning: divide by zero encountered in log\n",
            "  wandb_log[f'best_log_mean_mse_top_{count}'] = np.log(np.mean(self._ordered_best_mses[:count]))\n",
            "/usr/local/lib/python3.7/dist-packages/numpy/core/_asarray.py:136: VisibleDeprecationWarning: Creating an ndarray from ragged nested sequences (which is a list-or-tuple of lists-or-tuples-or ndarrays with different lengths or shapes) is deprecated. If you meant to do this, you must specify 'dtype=object' when creating the ndarray\n",
            "  return array(a, dtype, copy=False, order=order, subok=True)\n"
          ],
          "name": "stderr"
        },
        {
          "output_type": "stream",
          "text": [
            "\t[training] batches count: 1\n",
            "\t[training] loss: 7.834, rec loss: 4.030, kl: 7.609\n",
            "\t[validation] loss: 4.109, rec loss: 4.109, kl: 7.358\n"
          ],
          "name": "stdout"
        },
        {
          "output_type": "stream",
          "text": [
            "/content/RoboScientist/src/roboscientist/logger/single_formula_logger.py:113: RuntimeWarning: divide by zero encountered in log\n",
            "  wandb_log[f'best_log_mean_mse_top_{count}'] = np.log(np.mean(self._ordered_best_mses[:count]))\n",
            "/usr/local/lib/python3.7/dist-packages/numpy/core/_asarray.py:136: VisibleDeprecationWarning: Creating an ndarray from ragged nested sequences (which is a list-or-tuple of lists-or-tuples-or ndarrays with different lengths or shapes) is deprecated. If you meant to do this, you must specify 'dtype=object' when creating the ndarray\n",
            "  return array(a, dtype, copy=False, order=order, subok=True)\n"
          ],
          "name": "stderr"
        },
        {
          "output_type": "stream",
          "text": [
            "\t[training] batches count: 1\n",
            "\t[training] loss: 7.946, rec loss: 4.299, kl: 7.295\n",
            "\t[validation] loss: 4.205, rec loss: 4.205, kl: 7.144\n"
          ],
          "name": "stdout"
        },
        {
          "output_type": "stream",
          "text": [
            "/content/RoboScientist/src/roboscientist/logger/single_formula_logger.py:113: RuntimeWarning: divide by zero encountered in log\n",
            "  wandb_log[f'best_log_mean_mse_top_{count}'] = np.log(np.mean(self._ordered_best_mses[:count]))\n",
            "/usr/local/lib/python3.7/dist-packages/numpy/core/_asarray.py:136: VisibleDeprecationWarning: Creating an ndarray from ragged nested sequences (which is a list-or-tuple of lists-or-tuples-or ndarrays with different lengths or shapes) is deprecated. If you meant to do this, you must specify 'dtype=object' when creating the ndarray\n",
            "  return array(a, dtype, copy=False, order=order, subok=True)\n"
          ],
          "name": "stderr"
        },
        {
          "output_type": "stream",
          "text": [
            "\t[training] batches count: 1\n",
            "\t[training] loss: 8.017, rec loss: 4.514, kl: 7.006\n",
            "\t[validation] loss: 3.920, rec loss: 3.920, kl: 7.242\n"
          ],
          "name": "stdout"
        },
        {
          "output_type": "stream",
          "text": [
            "/content/RoboScientist/src/roboscientist/logger/single_formula_logger.py:113: RuntimeWarning: divide by zero encountered in log\n",
            "  wandb_log[f'best_log_mean_mse_top_{count}'] = np.log(np.mean(self._ordered_best_mses[:count]))\n",
            "/usr/local/lib/python3.7/dist-packages/numpy/core/_asarray.py:136: VisibleDeprecationWarning: Creating an ndarray from ragged nested sequences (which is a list-or-tuple of lists-or-tuples-or ndarrays with different lengths or shapes) is deprecated. If you meant to do this, you must specify 'dtype=object' when creating the ndarray\n",
            "  return array(a, dtype, copy=False, order=order, subok=True)\n"
          ],
          "name": "stderr"
        },
        {
          "output_type": "stream",
          "text": [
            "\t[training] batches count: 1\n",
            "\t[training] loss: 7.862, rec loss: 4.256, kl: 7.211\n",
            "\t[validation] loss: 3.828, rec loss: 3.828, kl: 7.219\n"
          ],
          "name": "stdout"
        },
        {
          "output_type": "stream",
          "text": [
            "/content/RoboScientist/src/roboscientist/logger/single_formula_logger.py:112: RuntimeWarning: divide by zero encountered in log\n",
            "  np.mean(self._ordered_current_epoch_best_mses[:count]))\n",
            "/content/RoboScientist/src/roboscientist/logger/single_formula_logger.py:113: RuntimeWarning: divide by zero encountered in log\n",
            "  wandb_log[f'best_log_mean_mse_top_{count}'] = np.log(np.mean(self._ordered_best_mses[:count]))\n",
            "/usr/local/lib/python3.7/dist-packages/numpy/core/_asarray.py:136: VisibleDeprecationWarning: Creating an ndarray from ragged nested sequences (which is a list-or-tuple of lists-or-tuples-or ndarrays with different lengths or shapes) is deprecated. If you meant to do this, you must specify 'dtype=object' when creating the ndarray\n",
            "  return array(a, dtype, copy=False, order=order, subok=True)\n"
          ],
          "name": "stderr"
        },
        {
          "output_type": "stream",
          "text": [
            "\t[training] batches count: 1\n",
            "\t[training] loss: 7.580, rec loss: 4.016, kl: 7.127\n",
            "\t[validation] loss: 3.732, rec loss: 3.732, kl: 7.030\n"
          ],
          "name": "stdout"
        },
        {
          "output_type": "stream",
          "text": [
            "/content/RoboScientist/src/roboscientist/logger/single_formula_logger.py:112: RuntimeWarning: divide by zero encountered in log\n",
            "  np.mean(self._ordered_current_epoch_best_mses[:count]))\n",
            "/content/RoboScientist/src/roboscientist/logger/single_formula_logger.py:113: RuntimeWarning: divide by zero encountered in log\n",
            "  wandb_log[f'best_log_mean_mse_top_{count}'] = np.log(np.mean(self._ordered_best_mses[:count]))\n",
            "/usr/local/lib/python3.7/dist-packages/numpy/core/_asarray.py:136: VisibleDeprecationWarning: Creating an ndarray from ragged nested sequences (which is a list-or-tuple of lists-or-tuples-or ndarrays with different lengths or shapes) is deprecated. If you meant to do this, you must specify 'dtype=object' when creating the ndarray\n",
            "  return array(a, dtype, copy=False, order=order, subok=True)\n"
          ],
          "name": "stderr"
        },
        {
          "output_type": "stream",
          "text": [
            "\t[training] batches count: 1\n",
            "\t[training] loss: 7.549, rec loss: 4.056, kl: 6.986\n",
            "\t[validation] loss: 3.610, rec loss: 3.610, kl: 7.031\n"
          ],
          "name": "stdout"
        },
        {
          "output_type": "stream",
          "text": [
            "/content/RoboScientist/src/roboscientist/logger/single_formula_logger.py:113: RuntimeWarning: divide by zero encountered in log\n",
            "  wandb_log[f'best_log_mean_mse_top_{count}'] = np.log(np.mean(self._ordered_best_mses[:count]))\n",
            "/usr/local/lib/python3.7/dist-packages/numpy/core/_asarray.py:136: VisibleDeprecationWarning: Creating an ndarray from ragged nested sequences (which is a list-or-tuple of lists-or-tuples-or ndarrays with different lengths or shapes) is deprecated. If you meant to do this, you must specify 'dtype=object' when creating the ndarray\n",
            "  return array(a, dtype, copy=False, order=order, subok=True)\n"
          ],
          "name": "stderr"
        },
        {
          "output_type": "stream",
          "text": [
            "\t[training] batches count: 1\n",
            "\t[training] loss: 7.574, rec loss: 4.061, kl: 7.026\n",
            "\t[validation] loss: 3.647, rec loss: 3.647, kl: 7.026\n"
          ],
          "name": "stdout"
        },
        {
          "output_type": "stream",
          "text": [
            "/content/RoboScientist/src/roboscientist/logger/single_formula_logger.py:113: RuntimeWarning: divide by zero encountered in log\n",
            "  wandb_log[f'best_log_mean_mse_top_{count}'] = np.log(np.mean(self._ordered_best_mses[:count]))\n",
            "/usr/local/lib/python3.7/dist-packages/numpy/core/_asarray.py:136: VisibleDeprecationWarning: Creating an ndarray from ragged nested sequences (which is a list-or-tuple of lists-or-tuples-or ndarrays with different lengths or shapes) is deprecated. If you meant to do this, you must specify 'dtype=object' when creating the ndarray\n",
            "  return array(a, dtype, copy=False, order=order, subok=True)\n"
          ],
          "name": "stderr"
        },
        {
          "output_type": "stream",
          "text": [
            "\t[training] batches count: 1\n",
            "\t[training] loss: 7.521, rec loss: 4.034, kl: 6.975\n",
            "\t[validation] loss: 3.520, rec loss: 3.520, kl: 7.169\n"
          ],
          "name": "stdout"
        },
        {
          "output_type": "stream",
          "text": [
            "/content/RoboScientist/src/roboscientist/logger/single_formula_logger.py:112: RuntimeWarning: divide by zero encountered in log\n",
            "  np.mean(self._ordered_current_epoch_best_mses[:count]))\n",
            "/content/RoboScientist/src/roboscientist/logger/single_formula_logger.py:113: RuntimeWarning: divide by zero encountered in log\n",
            "  wandb_log[f'best_log_mean_mse_top_{count}'] = np.log(np.mean(self._ordered_best_mses[:count]))\n",
            "/usr/local/lib/python3.7/dist-packages/numpy/core/_asarray.py:136: VisibleDeprecationWarning: Creating an ndarray from ragged nested sequences (which is a list-or-tuple of lists-or-tuples-or ndarrays with different lengths or shapes) is deprecated. If you meant to do this, you must specify 'dtype=object' when creating the ndarray\n",
            "  return array(a, dtype, copy=False, order=order, subok=True)\n"
          ],
          "name": "stderr"
        },
        {
          "output_type": "stream",
          "text": [
            "\t[training] batches count: 1\n",
            "\t[training] loss: 7.573, rec loss: 3.842, kl: 7.461\n",
            "\t[validation] loss: 3.548, rec loss: 3.548, kl: 7.344\n"
          ],
          "name": "stdout"
        },
        {
          "output_type": "stream",
          "text": [
            "/content/RoboScientist/src/roboscientist/logger/single_formula_logger.py:112: RuntimeWarning: divide by zero encountered in log\n",
            "  np.mean(self._ordered_current_epoch_best_mses[:count]))\n",
            "/content/RoboScientist/src/roboscientist/logger/single_formula_logger.py:113: RuntimeWarning: divide by zero encountered in log\n",
            "  wandb_log[f'best_log_mean_mse_top_{count}'] = np.log(np.mean(self._ordered_best_mses[:count]))\n",
            "/usr/local/lib/python3.7/dist-packages/numpy/core/_asarray.py:136: VisibleDeprecationWarning: Creating an ndarray from ragged nested sequences (which is a list-or-tuple of lists-or-tuples-or ndarrays with different lengths or shapes) is deprecated. If you meant to do this, you must specify 'dtype=object' when creating the ndarray\n",
            "  return array(a, dtype, copy=False, order=order, subok=True)\n"
          ],
          "name": "stderr"
        },
        {
          "output_type": "stream",
          "text": [
            "\t[training] batches count: 1\n",
            "\t[training] loss: 7.541, rec loss: 3.889, kl: 7.303\n",
            "\t[validation] loss: 3.345, rec loss: 3.345, kl: 7.196\n"
          ],
          "name": "stdout"
        },
        {
          "output_type": "stream",
          "text": [
            "/content/RoboScientist/src/roboscientist/logger/single_formula_logger.py:112: RuntimeWarning: divide by zero encountered in log\n",
            "  np.mean(self._ordered_current_epoch_best_mses[:count]))\n",
            "/content/RoboScientist/src/roboscientist/logger/single_formula_logger.py:113: RuntimeWarning: divide by zero encountered in log\n",
            "  wandb_log[f'best_log_mean_mse_top_{count}'] = np.log(np.mean(self._ordered_best_mses[:count]))\n",
            "/usr/local/lib/python3.7/dist-packages/numpy/core/_asarray.py:136: VisibleDeprecationWarning: Creating an ndarray from ragged nested sequences (which is a list-or-tuple of lists-or-tuples-or ndarrays with different lengths or shapes) is deprecated. If you meant to do this, you must specify 'dtype=object' when creating the ndarray\n",
            "  return array(a, dtype, copy=False, order=order, subok=True)\n"
          ],
          "name": "stderr"
        },
        {
          "output_type": "stream",
          "text": [
            "\t[training] batches count: 1\n",
            "\t[training] loss: 7.359, rec loss: 3.773, kl: 7.171\n",
            "\t[validation] loss: 3.290, rec loss: 3.290, kl: 6.973\n"
          ],
          "name": "stdout"
        },
        {
          "output_type": "stream",
          "text": [
            "/content/RoboScientist/src/roboscientist/logger/single_formula_logger.py:113: RuntimeWarning: divide by zero encountered in log\n",
            "  wandb_log[f'best_log_mean_mse_top_{count}'] = np.log(np.mean(self._ordered_best_mses[:count]))\n",
            "/usr/local/lib/python3.7/dist-packages/numpy/core/_asarray.py:136: VisibleDeprecationWarning: Creating an ndarray from ragged nested sequences (which is a list-or-tuple of lists-or-tuples-or ndarrays with different lengths or shapes) is deprecated. If you meant to do this, you must specify 'dtype=object' when creating the ndarray\n",
            "  return array(a, dtype, copy=False, order=order, subok=True)\n"
          ],
          "name": "stderr"
        },
        {
          "output_type": "stream",
          "text": [
            "\t[training] batches count: 1\n",
            "\t[training] loss: 7.330, rec loss: 3.863, kl: 6.934\n",
            "\t[validation] loss: 3.308, rec loss: 3.308, kl: 6.890\n"
          ],
          "name": "stdout"
        },
        {
          "output_type": "stream",
          "text": [
            "/content/RoboScientist/src/roboscientist/logger/single_formula_logger.py:113: RuntimeWarning: divide by zero encountered in log\n",
            "  wandb_log[f'best_log_mean_mse_top_{count}'] = np.log(np.mean(self._ordered_best_mses[:count]))\n",
            "/usr/local/lib/python3.7/dist-packages/numpy/core/_asarray.py:136: VisibleDeprecationWarning: Creating an ndarray from ragged nested sequences (which is a list-or-tuple of lists-or-tuples-or ndarrays with different lengths or shapes) is deprecated. If you meant to do this, you must specify 'dtype=object' when creating the ndarray\n",
            "  return array(a, dtype, copy=False, order=order, subok=True)\n"
          ],
          "name": "stderr"
        },
        {
          "output_type": "stream",
          "text": [
            "\t[training] batches count: 1\n",
            "\t[training] loss: 7.207, rec loss: 3.945, kl: 6.524\n",
            "\t[validation] loss: 3.419, rec loss: 3.419, kl: 6.762\n"
          ],
          "name": "stdout"
        },
        {
          "output_type": "stream",
          "text": [
            "/content/RoboScientist/src/roboscientist/logger/single_formula_logger.py:113: RuntimeWarning: divide by zero encountered in log\n",
            "  wandb_log[f'best_log_mean_mse_top_{count}'] = np.log(np.mean(self._ordered_best_mses[:count]))\n",
            "/usr/local/lib/python3.7/dist-packages/numpy/core/_asarray.py:136: VisibleDeprecationWarning: Creating an ndarray from ragged nested sequences (which is a list-or-tuple of lists-or-tuples-or ndarrays with different lengths or shapes) is deprecated. If you meant to do this, you must specify 'dtype=object' when creating the ndarray\n",
            "  return array(a, dtype, copy=False, order=order, subok=True)\n"
          ],
          "name": "stderr"
        },
        {
          "output_type": "stream",
          "text": [
            "\t[training] batches count: 1\n",
            "\t[training] loss: 7.167, rec loss: 3.787, kl: 6.760\n",
            "\t[validation] loss: 3.307, rec loss: 3.307, kl: 7.009\n"
          ],
          "name": "stdout"
        },
        {
          "output_type": "stream",
          "text": [
            "/content/RoboScientist/src/roboscientist/logger/single_formula_logger.py:112: RuntimeWarning: divide by zero encountered in log\n",
            "  np.mean(self._ordered_current_epoch_best_mses[:count]))\n",
            "/content/RoboScientist/src/roboscientist/logger/single_formula_logger.py:113: RuntimeWarning: divide by zero encountered in log\n",
            "  wandb_log[f'best_log_mean_mse_top_{count}'] = np.log(np.mean(self._ordered_best_mses[:count]))\n",
            "/usr/local/lib/python3.7/dist-packages/numpy/core/_asarray.py:136: VisibleDeprecationWarning: Creating an ndarray from ragged nested sequences (which is a list-or-tuple of lists-or-tuples-or ndarrays with different lengths or shapes) is deprecated. If you meant to do this, you must specify 'dtype=object' when creating the ndarray\n",
            "  return array(a, dtype, copy=False, order=order, subok=True)\n"
          ],
          "name": "stderr"
        },
        {
          "output_type": "stream",
          "text": [
            "\t[training] batches count: 1\n",
            "\t[training] loss: 7.363, rec loss: 3.840, kl: 7.047\n",
            "\t[validation] loss: 3.501, rec loss: 3.501, kl: 7.062\n"
          ],
          "name": "stdout"
        },
        {
          "output_type": "stream",
          "text": [
            "/content/RoboScientist/src/roboscientist/logger/single_formula_logger.py:112: RuntimeWarning: divide by zero encountered in log\n",
            "  np.mean(self._ordered_current_epoch_best_mses[:count]))\n",
            "/content/RoboScientist/src/roboscientist/logger/single_formula_logger.py:113: RuntimeWarning: divide by zero encountered in log\n",
            "  wandb_log[f'best_log_mean_mse_top_{count}'] = np.log(np.mean(self._ordered_best_mses[:count]))\n",
            "/usr/local/lib/python3.7/dist-packages/numpy/core/_asarray.py:136: VisibleDeprecationWarning: Creating an ndarray from ragged nested sequences (which is a list-or-tuple of lists-or-tuples-or ndarrays with different lengths or shapes) is deprecated. If you meant to do this, you must specify 'dtype=object' when creating the ndarray\n",
            "  return array(a, dtype, copy=False, order=order, subok=True)\n"
          ],
          "name": "stderr"
        },
        {
          "output_type": "stream",
          "text": [
            "\t[training] batches count: 1\n",
            "\t[training] loss: 7.458, rec loss: 3.925, kl: 7.065\n",
            "\t[validation] loss: 3.325, rec loss: 3.325, kl: 6.927\n"
          ],
          "name": "stdout"
        },
        {
          "output_type": "stream",
          "text": [
            "/content/RoboScientist/src/roboscientist/logger/single_formula_logger.py:113: RuntimeWarning: divide by zero encountered in log\n",
            "  wandb_log[f'best_log_mean_mse_top_{count}'] = np.log(np.mean(self._ordered_best_mses[:count]))\n",
            "/usr/local/lib/python3.7/dist-packages/numpy/core/_asarray.py:136: VisibleDeprecationWarning: Creating an ndarray from ragged nested sequences (which is a list-or-tuple of lists-or-tuples-or ndarrays with different lengths or shapes) is deprecated. If you meant to do this, you must specify 'dtype=object' when creating the ndarray\n",
            "  return array(a, dtype, copy=False, order=order, subok=True)\n"
          ],
          "name": "stderr"
        },
        {
          "output_type": "stream",
          "text": [
            "\t[training] batches count: 1\n",
            "\t[training] loss: 7.387, rec loss: 3.928, kl: 6.918\n",
            "\t[validation] loss: 3.513, rec loss: 3.513, kl: 6.950\n"
          ],
          "name": "stdout"
        },
        {
          "output_type": "stream",
          "text": [
            "/content/RoboScientist/src/roboscientist/logger/single_formula_logger.py:113: RuntimeWarning: divide by zero encountered in log\n",
            "  wandb_log[f'best_log_mean_mse_top_{count}'] = np.log(np.mean(self._ordered_best_mses[:count]))\n",
            "/usr/local/lib/python3.7/dist-packages/numpy/core/_asarray.py:136: VisibleDeprecationWarning: Creating an ndarray from ragged nested sequences (which is a list-or-tuple of lists-or-tuples-or ndarrays with different lengths or shapes) is deprecated. If you meant to do this, you must specify 'dtype=object' when creating the ndarray\n",
            "  return array(a, dtype, copy=False, order=order, subok=True)\n"
          ],
          "name": "stderr"
        },
        {
          "output_type": "stream",
          "text": [
            "\t[training] batches count: 1\n",
            "\t[training] loss: 7.480, rec loss: 3.995, kl: 6.971\n",
            "\t[validation] loss: 3.619, rec loss: 3.619, kl: 7.211\n"
          ],
          "name": "stdout"
        },
        {
          "output_type": "stream",
          "text": [
            "/content/RoboScientist/src/roboscientist/logger/single_formula_logger.py:112: RuntimeWarning: divide by zero encountered in log\n",
            "  np.mean(self._ordered_current_epoch_best_mses[:count]))\n",
            "/content/RoboScientist/src/roboscientist/logger/single_formula_logger.py:113: RuntimeWarning: divide by zero encountered in log\n",
            "  wandb_log[f'best_log_mean_mse_top_{count}'] = np.log(np.mean(self._ordered_best_mses[:count]))\n",
            "/usr/local/lib/python3.7/dist-packages/numpy/core/_asarray.py:136: VisibleDeprecationWarning: Creating an ndarray from ragged nested sequences (which is a list-or-tuple of lists-or-tuples-or ndarrays with different lengths or shapes) is deprecated. If you meant to do this, you must specify 'dtype=object' when creating the ndarray\n",
            "  return array(a, dtype, copy=False, order=order, subok=True)\n"
          ],
          "name": "stderr"
        },
        {
          "output_type": "stream",
          "text": [
            "\t[training] batches count: 1\n",
            "\t[training] loss: 7.247, rec loss: 3.665, kl: 7.164\n",
            "\t[validation] loss: 3.451, rec loss: 3.451, kl: 7.023\n"
          ],
          "name": "stdout"
        },
        {
          "output_type": "stream",
          "text": [
            "/content/RoboScientist/src/roboscientist/logger/single_formula_logger.py:113: RuntimeWarning: divide by zero encountered in log\n",
            "  wandb_log[f'best_log_mean_mse_top_{count}'] = np.log(np.mean(self._ordered_best_mses[:count]))\n",
            "/usr/local/lib/python3.7/dist-packages/numpy/core/_asarray.py:136: VisibleDeprecationWarning: Creating an ndarray from ragged nested sequences (which is a list-or-tuple of lists-or-tuples-or ndarrays with different lengths or shapes) is deprecated. If you meant to do this, you must specify 'dtype=object' when creating the ndarray\n",
            "  return array(a, dtype, copy=False, order=order, subok=True)\n"
          ],
          "name": "stderr"
        },
        {
          "output_type": "stream",
          "text": [
            "\t[training] batches count: 1\n",
            "\t[training] loss: 6.892, rec loss: 3.469, kl: 6.846\n",
            "\t[validation] loss: 3.539, rec loss: 3.539, kl: 6.608\n"
          ],
          "name": "stdout"
        },
        {
          "output_type": "stream",
          "text": [
            "/content/RoboScientist/src/roboscientist/logger/single_formula_logger.py:112: RuntimeWarning: divide by zero encountered in log\n",
            "  np.mean(self._ordered_current_epoch_best_mses[:count]))\n",
            "/content/RoboScientist/src/roboscientist/logger/single_formula_logger.py:113: RuntimeWarning: divide by zero encountered in log\n",
            "  wandb_log[f'best_log_mean_mse_top_{count}'] = np.log(np.mean(self._ordered_best_mses[:count]))\n",
            "/usr/local/lib/python3.7/dist-packages/numpy/core/_asarray.py:136: VisibleDeprecationWarning: Creating an ndarray from ragged nested sequences (which is a list-or-tuple of lists-or-tuples-or ndarrays with different lengths or shapes) is deprecated. If you meant to do this, you must specify 'dtype=object' when creating the ndarray\n",
            "  return array(a, dtype, copy=False, order=order, subok=True)\n"
          ],
          "name": "stderr"
        },
        {
          "output_type": "stream",
          "text": [
            "\t[training] batches count: 1\n",
            "\t[training] loss: 7.236, rec loss: 3.895, kl: 6.682\n",
            "\t[validation] loss: 3.760, rec loss: 3.760, kl: 6.549\n"
          ],
          "name": "stdout"
        },
        {
          "output_type": "stream",
          "text": [
            "/content/RoboScientist/src/roboscientist/logger/single_formula_logger.py:112: RuntimeWarning: divide by zero encountered in log\n",
            "  np.mean(self._ordered_current_epoch_best_mses[:count]))\n",
            "/content/RoboScientist/src/roboscientist/logger/single_formula_logger.py:113: RuntimeWarning: divide by zero encountered in log\n",
            "  wandb_log[f'best_log_mean_mse_top_{count}'] = np.log(np.mean(self._ordered_best_mses[:count]))\n"
          ],
          "name": "stderr"
        },
        {
          "output_type": "execute_result",
          "data": {
            "text/plain": [
              "<roboscientist.datasets.dataset.Dataset at 0x7fd1b4ce15d0>"
            ]
          },
          "metadata": {
            "tags": []
          },
          "execution_count": 8
        }
      ]
    },
    {
      "cell_type": "code",
      "metadata": {
        "id": "fAaSYUT0F-Sl"
      },
      "source": [
        ""
      ],
      "execution_count": null,
      "outputs": []
    }
  ]
}