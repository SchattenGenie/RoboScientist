{
  "nbformat": 4,
  "nbformat_minor": 0,
  "metadata": {
    "colab": {
      "name": "vae_main_repo.ipynb",
      "provenance": [],
      "collapsed_sections": []
    },
    "kernelspec": {
      "name": "python3",
      "display_name": "Python 3"
    },
    "language_info": {
      "name": "python"
    },
    "accelerator": "GPU"
  },
  "cells": [
    {
      "cell_type": "code",
      "metadata": {
        "colab": {
          "base_uri": "https://localhost:8080/"
        },
        "id": "eTAo-PHRe5zT",
        "outputId": "172331b1-400c-4099-d955-055501b55ef0"
      },
      "source": [
        "!pip install wandb\n",
        "!pip install scikit-optimize\n"
      ],
      "execution_count": 3,
      "outputs": [
        {
          "output_type": "stream",
          "text": [
            "Collecting wandb\n",
            "\u001b[?25l  Downloading https://files.pythonhosted.org/packages/47/af/4cfe48fe55046181b992251933cff4ceb3bfd71a42838f5fe683683cd925/wandb-0.10.25-py2.py3-none-any.whl (2.1MB)\n",
            "\u001b[K     |████████████████████████████████| 2.1MB 7.6MB/s \n",
            "\u001b[?25hCollecting configparser>=3.8.1\n",
            "  Downloading https://files.pythonhosted.org/packages/fd/01/ff260a18caaf4457eb028c96eeb405c4a230ca06c8ec9c1379f813caa52e/configparser-5.0.2-py3-none-any.whl\n",
            "Collecting GitPython>=1.0.0\n",
            "\u001b[?25l  Downloading https://files.pythonhosted.org/packages/a6/99/98019716955ba243657daedd1de8f3a88ca1f5b75057c38e959db22fb87b/GitPython-3.1.14-py3-none-any.whl (159kB)\n",
            "\u001b[K     |████████████████████████████████| 163kB 49.5MB/s \n",
            "\u001b[?25hRequirement already satisfied: Click>=7.0 in /usr/local/lib/python3.7/dist-packages (from wandb) (7.1.2)\n",
            "Requirement already satisfied: requests<3,>=2.0.0 in /usr/local/lib/python3.7/dist-packages (from wandb) (2.23.0)\n",
            "Collecting shortuuid>=0.5.0\n",
            "  Downloading https://files.pythonhosted.org/packages/25/a6/2ecc1daa6a304e7f1b216f0896b26156b78e7c38e1211e9b798b4716c53d/shortuuid-1.0.1-py3-none-any.whl\n",
            "Requirement already satisfied: promise<3,>=2.0 in /usr/local/lib/python3.7/dist-packages (from wandb) (2.3)\n",
            "Collecting sentry-sdk>=0.4.0\n",
            "\u001b[?25l  Downloading https://files.pythonhosted.org/packages/f3/92/5a33be64990ba815364a8f2dd9e6f51de60d23dfddafb4f1fc5577d4dc64/sentry_sdk-1.0.0-py2.py3-none-any.whl (131kB)\n",
            "\u001b[K     |████████████████████████████████| 133kB 36.4MB/s \n",
            "\u001b[?25hCollecting docker-pycreds>=0.4.0\n",
            "  Downloading https://files.pythonhosted.org/packages/f5/e8/f6bd1eee09314e7e6dee49cbe2c5e22314ccdb38db16c9fc72d2fa80d054/docker_pycreds-0.4.0-py2.py3-none-any.whl\n",
            "Requirement already satisfied: protobuf>=3.12.0 in /usr/local/lib/python3.7/dist-packages (from wandb) (3.12.4)\n",
            "Requirement already satisfied: psutil>=5.0.0 in /usr/local/lib/python3.7/dist-packages (from wandb) (5.4.8)\n",
            "Collecting subprocess32>=3.5.3\n",
            "\u001b[?25l  Downloading https://files.pythonhosted.org/packages/32/c8/564be4d12629b912ea431f1a50eb8b3b9d00f1a0b1ceff17f266be190007/subprocess32-3.5.4.tar.gz (97kB)\n",
            "\u001b[K     |████████████████████████████████| 102kB 13.4MB/s \n",
            "\u001b[?25hCollecting pathtools\n",
            "  Downloading https://files.pythonhosted.org/packages/e7/7f/470d6fcdf23f9f3518f6b0b76be9df16dcc8630ad409947f8be2eb0ed13a/pathtools-0.1.2.tar.gz\n",
            "Requirement already satisfied: PyYAML in /usr/local/lib/python3.7/dist-packages (from wandb) (3.13)\n",
            "Requirement already satisfied: python-dateutil>=2.6.1 in /usr/local/lib/python3.7/dist-packages (from wandb) (2.8.1)\n",
            "Requirement already satisfied: six>=1.13.0 in /usr/local/lib/python3.7/dist-packages (from wandb) (1.15.0)\n",
            "Collecting gitdb<5,>=4.0.1\n",
            "\u001b[?25l  Downloading https://files.pythonhosted.org/packages/ea/e8/f414d1a4f0bbc668ed441f74f44c116d9816833a48bf81d22b697090dba8/gitdb-4.0.7-py3-none-any.whl (63kB)\n",
            "\u001b[K     |████████████████████████████████| 71kB 11.0MB/s \n",
            "\u001b[?25hRequirement already satisfied: idna<3,>=2.5 in /usr/local/lib/python3.7/dist-packages (from requests<3,>=2.0.0->wandb) (2.10)\n",
            "Requirement already satisfied: certifi>=2017.4.17 in /usr/local/lib/python3.7/dist-packages (from requests<3,>=2.0.0->wandb) (2020.12.5)\n",
            "Requirement already satisfied: chardet<4,>=3.0.2 in /usr/local/lib/python3.7/dist-packages (from requests<3,>=2.0.0->wandb) (3.0.4)\n",
            "Requirement already satisfied: urllib3!=1.25.0,!=1.25.1,<1.26,>=1.21.1 in /usr/local/lib/python3.7/dist-packages (from requests<3,>=2.0.0->wandb) (1.24.3)\n",
            "Requirement already satisfied: setuptools in /usr/local/lib/python3.7/dist-packages (from protobuf>=3.12.0->wandb) (54.2.0)\n",
            "Collecting smmap<5,>=3.0.1\n",
            "  Downloading https://files.pythonhosted.org/packages/68/ee/d540eb5e5996eb81c26ceffac6ee49041d473bc5125f2aa995cf51ec1cf1/smmap-4.0.0-py2.py3-none-any.whl\n",
            "Building wheels for collected packages: subprocess32, pathtools\n",
            "  Building wheel for subprocess32 (setup.py) ... \u001b[?25l\u001b[?25hdone\n",
            "  Created wheel for subprocess32: filename=subprocess32-3.5.4-cp37-none-any.whl size=6489 sha256=8946d6f334e0a730663dac16d2cd6595d38e638f4d378bbb55ad44303ea9bbda\n",
            "  Stored in directory: /root/.cache/pip/wheels/68/39/1a/5e402bdfdf004af1786c8b853fd92f8c4a04f22aad179654d1\n",
            "  Building wheel for pathtools (setup.py) ... \u001b[?25l\u001b[?25hdone\n",
            "  Created wheel for pathtools: filename=pathtools-0.1.2-cp37-none-any.whl size=8786 sha256=b4db72bbe3fabbbdc6dae7378cd3d9ccc84bc8001e4c7d6179511904632b698d\n",
            "  Stored in directory: /root/.cache/pip/wheels/0b/04/79/c3b0c3a0266a3cb4376da31e5bfe8bba0c489246968a68e843\n",
            "Successfully built subprocess32 pathtools\n",
            "Installing collected packages: configparser, smmap, gitdb, GitPython, shortuuid, sentry-sdk, docker-pycreds, subprocess32, pathtools, wandb\n",
            "Successfully installed GitPython-3.1.14 configparser-5.0.2 docker-pycreds-0.4.0 gitdb-4.0.7 pathtools-0.1.2 sentry-sdk-1.0.0 shortuuid-1.0.1 smmap-4.0.0 subprocess32-3.5.4 wandb-0.10.25\n",
            "Collecting scikit-optimize\n",
            "\u001b[?25l  Downloading https://files.pythonhosted.org/packages/8b/03/be33e89f55866065a02e515c5b319304a801a9f1027a9b311a9b1d1f8dc7/scikit_optimize-0.8.1-py2.py3-none-any.whl (101kB)\n",
            "\u001b[K     |████████████████████████████████| 102kB 6.7MB/s \n",
            "\u001b[?25hCollecting pyaml>=16.9\n",
            "  Downloading https://files.pythonhosted.org/packages/15/c4/1310a054d33abc318426a956e7d6df0df76a6ddfa9c66f6310274fb75d42/pyaml-20.4.0-py2.py3-none-any.whl\n",
            "Requirement already satisfied: joblib>=0.11 in /usr/local/lib/python3.7/dist-packages (from scikit-optimize) (1.0.1)\n",
            "Requirement already satisfied: scipy>=0.19.1 in /usr/local/lib/python3.7/dist-packages (from scikit-optimize) (1.4.1)\n",
            "Requirement already satisfied: scikit-learn>=0.20.0 in /usr/local/lib/python3.7/dist-packages (from scikit-optimize) (0.22.2.post1)\n",
            "Requirement already satisfied: numpy>=1.13.3 in /usr/local/lib/python3.7/dist-packages (from scikit-optimize) (1.19.5)\n",
            "Requirement already satisfied: PyYAML in /usr/local/lib/python3.7/dist-packages (from pyaml>=16.9->scikit-optimize) (3.13)\n",
            "Installing collected packages: pyaml, scikit-optimize\n",
            "Successfully installed pyaml-20.4.0 scikit-optimize-0.8.1\n"
          ],
          "name": "stdout"
        }
      ]
    },
    {
      "cell_type": "code",
      "metadata": {
        "id": "wXqmR-g5p9mn"
      },
      "source": [
        "from roboscientist.models.vae_solver import VAESolver, VAESolverParams\n",
        "from roboscientist.logger import single_formula_logger\n",
        "import numpy as np\n",
        "import torch"
      ],
      "execution_count": 2,
      "outputs": []
    },
    {
      "cell_type": "code",
      "metadata": {
        "id": "9Y8SIN11eb1U"
      },
      "source": [
        "from roboscientist.datasets import equations_utils, equations_base, equations_settings\n",
        "import numpy as np\n",
        "f = equations_utils.infix_to_expr(['Add', 'Add', 'Mul', \"Add\", \"sin\", 0.8, \"Symbol('x0')\", 'sin', \"Symbol('x0')\", 'cos', 'cos', \"Symbol('x0')\", 1.0])\n",
        "f = equations_base.Equation(f)\n",
        "f.add_observation(np.linspace(0.1, 2, num=100).reshape(-1, 1))\n",
        "X, y_true = f.dataset"
      ],
      "execution_count": 3,
      "outputs": []
    },
    {
      "cell_type": "code",
      "metadata": {
        "id": "MG2kA7iJxSF_"
      },
      "source": [
        "print(f)"
      ],
      "execution_count": null,
      "outputs": []
    },
    {
      "cell_type": "code",
      "metadata": {
        "colab": {
          "base_uri": "https://localhost:8080/",
          "height": 1000
        },
        "id": "O23UxNV4qTOS",
        "outputId": "eb503200-a756-459d-c6a1-b64a5e0165af"
      },
      "source": [
        "vs = VAESolver(single_formula_logger.SingleFormulaLogger('test', 'test', {}), \n",
        "               VAESolverParams(device=torch.device('cuda'), \n",
        "                               float_constants=['1.0'],\n",
        "                               optimizable_constants=[\"Symbol('const%d')\" % i for i in range(15)],\n",
        "                               kl_coef=0.5, percentile=5,\n",
        "                               xs=X, ys=y_true))"
      ],
      "execution_count": 8,
      "outputs": [
        {
          "output_type": "display_data",
          "data": {
            "text/html": [
              "\n",
              "                Tracking run with wandb version 0.10.25<br/>\n",
              "                Syncing run <strong style=\"color:#cdcd00\">test</strong> to <a href=\"https://wandb.ai\" target=\"_blank\">Weights & Biases</a> <a href=\"https://docs.wandb.com/integrations/jupyter.html\" target=\"_blank\">(Documentation)</a>.<br/>\n",
              "                Project page: <a href=\"https://wandb.ai/nuwanda57/test\" target=\"_blank\">https://wandb.ai/nuwanda57/test</a><br/>\n",
              "                Run page: <a href=\"https://wandb.ai/nuwanda57/test/runs/3mzev4sm\" target=\"_blank\">https://wandb.ai/nuwanda57/test/runs/3mzev4sm</a><br/>\n",
              "                Run data is saved locally in <code>/content/RoboScientist/src/wandb/run-20210412_153213-3mzev4sm</code><br/><br/>\n",
              "            "
            ],
            "text/plain": [
              "<IPython.core.display.HTML object>"
            ]
          },
          "metadata": {
            "tags": []
          }
        },
        {
          "output_type": "stream",
          "text": [
            "\t[training] batches count: 79\n",
            "\t[training] loss: 22.101, rec loss: 21.941, kl: 0.319\n",
            "\t[validation] loss: 17.152, rec loss: 17.152, kl: 0.099\n",
            "\t[training] batches count: 79\n",
            "\t[training] loss: 16.987, rec loss: 16.912, kl: 0.150\n",
            "\t[validation] loss: 15.511, rec loss: 15.511, kl: 0.219\n",
            "\t[training] batches count: 79\n",
            "\t[training] loss: 15.860, rec loss: 15.698, kl: 0.326\n",
            "\t[validation] loss: 14.617, rec loss: 14.617, kl: 0.623\n",
            "\t[training] batches count: 79\n",
            "\t[training] loss: 15.288, rec loss: 15.002, kl: 0.572\n",
            "\t[validation] loss: 14.263, rec loss: 14.263, kl: 0.720\n",
            "\t[training] batches count: 79\n",
            "\t[training] loss: 14.949, rec loss: 14.535, kl: 0.827\n",
            "\t[validation] loss: 13.751, rec loss: 13.751, kl: 0.914\n",
            "\t[training] batches count: 79\n",
            "\t[training] loss: 14.668, rec loss: 14.117, kl: 1.101\n",
            "\t[validation] loss: 13.384, rec loss: 13.384, kl: 1.360\n",
            "\t[training] batches count: 79\n",
            "\t[training] loss: 14.511, rec loss: 13.833, kl: 1.355\n",
            "\t[validation] loss: 13.067, rec loss: 13.067, kl: 1.367\n",
            "\t[training] batches count: 79\n",
            "\t[training] loss: 14.329, rec loss: 13.536, kl: 1.585\n",
            "\t[validation] loss: 12.864, rec loss: 12.864, kl: 1.712\n",
            "\t[training] batches count: 79\n",
            "\t[training] loss: 14.153, rec loss: 13.217, kl: 1.873\n",
            "\t[validation] loss: 12.422, rec loss: 12.422, kl: 2.107\n",
            "\t[training] batches count: 79\n",
            "\t[training] loss: 14.080, rec loss: 13.028, kl: 2.105\n",
            "\t[validation] loss: 12.495, rec loss: 12.495, kl: 2.120\n",
            "\t[training] batches count: 79\n",
            "\t[training] loss: 13.924, rec loss: 12.721, kl: 2.406\n",
            "\t[validation] loss: 11.906, rec loss: 11.906, kl: 2.693\n",
            "\t[training] batches count: 79\n",
            "\t[training] loss: 13.875, rec loss: 12.572, kl: 2.606\n",
            "\t[validation] loss: 11.712, rec loss: 11.712, kl: 2.822\n",
            "\t[training] batches count: 79\n",
            "\t[training] loss: 13.752, rec loss: 12.294, kl: 2.917\n",
            "\t[validation] loss: 11.485, rec loss: 11.485, kl: 3.067\n",
            "\t[training] batches count: 79\n",
            "\t[training] loss: 13.614, rec loss: 12.020, kl: 3.187\n",
            "\t[validation] loss: 11.362, rec loss: 11.362, kl: 3.238\n",
            "\t[training] batches count: 79\n",
            "\t[training] loss: 13.557, rec loss: 11.863, kl: 3.387\n",
            "\t[validation] loss: 11.201, rec loss: 11.201, kl: 3.503\n",
            "\t[training] batches count: 79\n",
            "\t[training] loss: 13.450, rec loss: 11.600, kl: 3.699\n",
            "\t[validation] loss: 10.866, rec loss: 10.866, kl: 3.773\n",
            "\t[training] batches count: 79\n",
            "\t[training] loss: 13.300, rec loss: 11.313, kl: 3.974\n",
            "\t[validation] loss: 10.508, rec loss: 10.508, kl: 4.190\n",
            "\t[training] batches count: 79\n",
            "\t[training] loss: 13.305, rec loss: 11.268, kl: 4.074\n",
            "\t[validation] loss: 10.350, rec loss: 10.350, kl: 4.270\n",
            "\t[training] batches count: 79\n",
            "\t[training] loss: 13.159, rec loss: 10.991, kl: 4.336\n",
            "\t[validation] loss: 10.482, rec loss: 10.482, kl: 4.419\n",
            "\t[training] batches count: 79\n",
            "\t[training] loss: 13.105, rec loss: 10.881, kl: 4.447\n",
            "\t[validation] loss: 10.374, rec loss: 10.374, kl: 4.569\n",
            "\t[training] batches count: 79\n",
            "\t[training] loss: 12.992, rec loss: 10.673, kl: 4.639\n",
            "\t[validation] loss: 9.926, rec loss: 9.926, kl: 4.717\n",
            "\t[training] batches count: 79\n",
            "\t[training] loss: 12.931, rec loss: 10.500, kl: 4.862\n",
            "\t[validation] loss: 9.835, rec loss: 9.835, kl: 4.927\n",
            "\t[training] batches count: 79\n",
            "\t[training] loss: 13.035, rec loss: 10.574, kl: 4.921\n",
            "\t[validation] loss: 9.799, rec loss: 9.799, kl: 4.945\n",
            "\t[training] batches count: 79\n",
            "\t[training] loss: 12.845, rec loss: 10.321, kl: 5.048\n",
            "\t[validation] loss: 9.913, rec loss: 9.913, kl: 5.021\n",
            "\t[training] batches count: 79\n",
            "\t[training] loss: 12.811, rec loss: 10.238, kl: 5.145\n",
            "\t[validation] loss: 9.484, rec loss: 9.484, kl: 5.227\n",
            "\t[training] batches count: 79\n",
            "\t[training] loss: 12.764, rec loss: 10.111, kl: 5.306\n",
            "\t[validation] loss: 9.345, rec loss: 9.345, kl: 5.496\n",
            "\t[training] batches count: 79\n",
            "\t[training] loss: 12.764, rec loss: 10.022, kl: 5.483\n",
            "\t[validation] loss: 9.542, rec loss: 9.542, kl: 5.316\n",
            "\t[training] batches count: 79\n",
            "\t[training] loss: 12.670, rec loss: 9.898, kl: 5.544\n",
            "\t[validation] loss: 9.181, rec loss: 9.181, kl: 5.686\n",
            "\t[training] batches count: 79\n",
            "\t[training] loss: 12.696, rec loss: 9.893, kl: 5.605\n",
            "\t[validation] loss: 9.079, rec loss: 9.079, kl: 5.654\n",
            "\t[training] batches count: 79\n",
            "\t[training] loss: 12.520, rec loss: 9.621, kl: 5.797\n",
            "\t[validation] loss: 9.087, rec loss: 9.087, kl: 5.854\n",
            "\t[training] batches count: 79\n",
            "\t[training] loss: 12.559, rec loss: 9.599, kl: 5.918\n",
            "\t[validation] loss: 9.115, rec loss: 9.115, kl: 5.967\n",
            "\t[training] batches count: 79\n",
            "\t[training] loss: 12.529, rec loss: 9.535, kl: 5.988\n",
            "\t[validation] loss: 8.781, rec loss: 8.781, kl: 6.064\n",
            "\t[training] batches count: 79\n",
            "\t[training] loss: 12.428, rec loss: 9.352, kl: 6.153\n",
            "\t[validation] loss: 9.093, rec loss: 9.093, kl: 6.198\n",
            "\t[training] batches count: 79\n",
            "\t[training] loss: 12.471, rec loss: 9.374, kl: 6.194\n",
            "\t[validation] loss: 8.514, rec loss: 8.514, kl: 6.302\n",
            "\t[training] batches count: 79\n",
            "\t[training] loss: 12.383, rec loss: 9.189, kl: 6.389\n",
            "\t[validation] loss: 8.533, rec loss: 8.533, kl: 6.340\n",
            "\t[training] batches count: 79\n",
            "\t[training] loss: 12.245, rec loss: 8.970, kl: 6.550\n",
            "\t[validation] loss: 8.373, rec loss: 8.373, kl: 6.559\n",
            "\t[training] batches count: 79\n",
            "\t[training] loss: 12.293, rec loss: 8.965, kl: 6.657\n",
            "\t[validation] loss: 8.408, rec loss: 8.408, kl: 6.548\n",
            "\t[training] batches count: 79\n",
            "\t[training] loss: 12.301, rec loss: 8.949, kl: 6.704\n",
            "\t[validation] loss: 8.706, rec loss: 8.706, kl: 6.821\n",
            "\t[training] batches count: 79\n",
            "\t[training] loss: 12.222, rec loss: 8.818, kl: 6.808\n",
            "\t[validation] loss: 8.092, rec loss: 8.092, kl: 6.828\n",
            "\t[training] batches count: 79\n",
            "\t[training] loss: 12.148, rec loss: 8.641, kl: 7.013\n",
            "\t[validation] loss: 7.948, rec loss: 7.948, kl: 7.063\n",
            "\t[training] batches count: 79\n",
            "\t[training] loss: 12.216, rec loss: 8.734, kl: 6.965\n",
            "\t[validation] loss: 8.381, rec loss: 8.381, kl: 6.921\n",
            "\t[training] batches count: 79\n",
            "\t[training] loss: 12.031, rec loss: 8.446, kl: 7.171\n",
            "\t[validation] loss: 7.838, rec loss: 7.838, kl: 7.159\n",
            "\t[training] batches count: 79\n",
            "\t[training] loss: 12.164, rec loss: 8.532, kl: 7.264\n",
            "\t[validation] loss: 7.980, rec loss: 7.980, kl: 7.117\n",
            "\t[training] batches count: 79\n",
            "\t[training] loss: 11.977, rec loss: 8.279, kl: 7.394\n",
            "\t[validation] loss: 8.023, rec loss: 8.023, kl: 7.349\n",
            "\t[training] batches count: 79\n",
            "\t[training] loss: 11.977, rec loss: 8.249, kl: 7.457\n",
            "\t[validation] loss: 7.395, rec loss: 7.395, kl: 7.539\n",
            "\t[training] batches count: 79\n",
            "\t[training] loss: 12.070, rec loss: 8.286, kl: 7.568\n",
            "\t[validation] loss: 7.531, rec loss: 7.531, kl: 7.433\n",
            "\t[training] batches count: 79\n",
            "\t[training] loss: 11.862, rec loss: 8.010, kl: 7.706\n",
            "\t[validation] loss: 7.274, rec loss: 7.274, kl: 7.759\n",
            "\t[training] batches count: 79\n",
            "\t[training] loss: 11.865, rec loss: 7.940, kl: 7.851\n",
            "\t[validation] loss: 8.151, rec loss: 8.151, kl: 7.867\n",
            "\t[training] batches count: 79\n",
            "\t[training] loss: 11.811, rec loss: 7.859, kl: 7.902\n",
            "\t[validation] loss: 7.317, rec loss: 7.317, kl: 7.865\n",
            "\t[training] batches count: 79\n",
            "\t[training] loss: 11.784, rec loss: 7.757, kl: 8.054\n",
            "\t[validation] loss: 6.957, rec loss: 6.957, kl: 8.130\n"
          ],
          "name": "stdout"
        }
      ]
    },
    {
      "cell_type": "code",
      "metadata": {
        "colab": {
          "base_uri": "https://localhost:8080/"
        },
        "id": "7JFnAL9QtRBz",
        "outputId": "1d9b194d-cc10-4231-ce20-5cf4803532f3"
      },
      "source": [
        "vs.solve(f, epochs=50)"
      ],
      "execution_count": null,
      "outputs": [
        {
          "output_type": "stream",
          "text": [
            "/usr/local/lib/python3.7/dist-packages/numpy/core/_asarray.py:136: VisibleDeprecationWarning: Creating an ndarray from ragged nested sequences (which is a list-or-tuple of lists-or-tuples-or ndarrays with different lengths or shapes) is deprecated. If you meant to do this, you must specify 'dtype=object' when creating the ndarray\n",
            "  return array(a, dtype, copy=False, order=order, subok=True)\n"
          ],
          "name": "stderr"
        },
        {
          "output_type": "stream",
          "text": [
            "\t[training] batches count: 1\n",
            "\t[training] loss: 11.135, rec loss: 7.396, kl: 7.478\n",
            "\t[validation] loss: 6.354, rec loss: 6.354, kl: 8.402\n"
          ],
          "name": "stdout"
        },
        {
          "output_type": "stream",
          "text": [
            "/usr/local/lib/python3.7/dist-packages/numpy/core/_asarray.py:136: VisibleDeprecationWarning: Creating an ndarray from ragged nested sequences (which is a list-or-tuple of lists-or-tuples-or ndarrays with different lengths or shapes) is deprecated. If you meant to do this, you must specify 'dtype=object' when creating the ndarray\n",
            "  return array(a, dtype, copy=False, order=order, subok=True)\n"
          ],
          "name": "stderr"
        },
        {
          "output_type": "stream",
          "text": [
            "\t[training] batches count: 1\n",
            "\t[training] loss: 11.030, rec loss: 6.873, kl: 8.314\n",
            "\t[validation] loss: 9.622, rec loss: 9.622, kl: 8.843\n"
          ],
          "name": "stdout"
        },
        {
          "output_type": "stream",
          "text": [
            "/usr/local/lib/python3.7/dist-packages/numpy/core/_asarray.py:136: VisibleDeprecationWarning: Creating an ndarray from ragged nested sequences (which is a list-or-tuple of lists-or-tuples-or ndarrays with different lengths or shapes) is deprecated. If you meant to do this, you must specify 'dtype=object' when creating the ndarray\n",
            "  return array(a, dtype, copy=False, order=order, subok=True)\n"
          ],
          "name": "stderr"
        },
        {
          "output_type": "stream",
          "text": [
            "\t[training] batches count: 1\n",
            "\t[training] loss: 14.619, rec loss: 10.221, kl: 8.795\n",
            "\t[validation] loss: 15.127, rec loss: 15.127, kl: 8.758\n"
          ],
          "name": "stdout"
        },
        {
          "output_type": "stream",
          "text": [
            "/usr/local/lib/python3.7/dist-packages/numpy/core/_asarray.py:136: VisibleDeprecationWarning: Creating an ndarray from ragged nested sequences (which is a list-or-tuple of lists-or-tuples-or ndarrays with different lengths or shapes) is deprecated. If you meant to do this, you must specify 'dtype=object' when creating the ndarray\n",
            "  return array(a, dtype, copy=False, order=order, subok=True)\n"
          ],
          "name": "stderr"
        },
        {
          "output_type": "stream",
          "text": [
            "\t[training] batches count: 1\n",
            "\t[training] loss: 19.141, rec loss: 14.789, kl: 8.704\n",
            "\t[validation] loss: 9.713, rec loss: 9.713, kl: 8.016\n"
          ],
          "name": "stdout"
        },
        {
          "output_type": "stream",
          "text": [
            "/usr/local/lib/python3.7/dist-packages/numpy/core/_asarray.py:136: VisibleDeprecationWarning: Creating an ndarray from ragged nested sequences (which is a list-or-tuple of lists-or-tuples-or ndarrays with different lengths or shapes) is deprecated. If you meant to do this, you must specify 'dtype=object' when creating the ndarray\n",
            "  return array(a, dtype, copy=False, order=order, subok=True)\n"
          ],
          "name": "stderr"
        },
        {
          "output_type": "stream",
          "text": [
            "\t[training] batches count: 1\n",
            "\t[training] loss: 13.888, rec loss: 9.902, kl: 7.971\n",
            "\t[validation] loss: 7.831, rec loss: 7.831, kl: 7.234\n"
          ],
          "name": "stdout"
        },
        {
          "output_type": "stream",
          "text": [
            "/usr/local/lib/python3.7/dist-packages/numpy/core/_asarray.py:136: VisibleDeprecationWarning: Creating an ndarray from ragged nested sequences (which is a list-or-tuple of lists-or-tuples-or ndarrays with different lengths or shapes) is deprecated. If you meant to do this, you must specify 'dtype=object' when creating the ndarray\n",
            "  return array(a, dtype, copy=False, order=order, subok=True)\n"
          ],
          "name": "stderr"
        },
        {
          "output_type": "stream",
          "text": [
            "\t[training] batches count: 1\n",
            "\t[training] loss: 11.962, rec loss: 8.390, kl: 7.143\n",
            "\t[validation] loss: 7.964, rec loss: 7.964, kl: 6.877\n"
          ],
          "name": "stdout"
        },
        {
          "output_type": "stream",
          "text": [
            "/usr/local/lib/python3.7/dist-packages/numpy/core/_asarray.py:136: VisibleDeprecationWarning: Creating an ndarray from ragged nested sequences (which is a list-or-tuple of lists-or-tuples-or ndarrays with different lengths or shapes) is deprecated. If you meant to do this, you must specify 'dtype=object' when creating the ndarray\n",
            "  return array(a, dtype, copy=False, order=order, subok=True)\n"
          ],
          "name": "stderr"
        },
        {
          "output_type": "stream",
          "text": [
            "\t[training] batches count: 1\n",
            "\t[training] loss: 11.579, rec loss: 8.166, kl: 6.824\n",
            "\t[validation] loss: 6.874, rec loss: 6.874, kl: 7.100\n"
          ],
          "name": "stdout"
        },
        {
          "output_type": "stream",
          "text": [
            "/usr/local/lib/python3.7/dist-packages/numpy/core/_asarray.py:136: VisibleDeprecationWarning: Creating an ndarray from ragged nested sequences (which is a list-or-tuple of lists-or-tuples-or ndarrays with different lengths or shapes) is deprecated. If you meant to do this, you must specify 'dtype=object' when creating the ndarray\n",
            "  return array(a, dtype, copy=False, order=order, subok=True)\n"
          ],
          "name": "stderr"
        },
        {
          "output_type": "stream",
          "text": [
            "\t[training] batches count: 1\n",
            "\t[training] loss: 10.781, rec loss: 7.265, kl: 7.032\n",
            "\t[validation] loss: 6.355, rec loss: 6.355, kl: 7.416\n"
          ],
          "name": "stdout"
        },
        {
          "output_type": "stream",
          "text": [
            "/usr/local/lib/python3.7/dist-packages/numpy/core/_asarray.py:136: VisibleDeprecationWarning: Creating an ndarray from ragged nested sequences (which is a list-or-tuple of lists-or-tuples-or ndarrays with different lengths or shapes) is deprecated. If you meant to do this, you must specify 'dtype=object' when creating the ndarray\n",
            "  return array(a, dtype, copy=False, order=order, subok=True)\n"
          ],
          "name": "stderr"
        },
        {
          "output_type": "stream",
          "text": [
            "\t[training] batches count: 1\n",
            "\t[training] loss: 10.495, rec loss: 6.791, kl: 7.409\n",
            "\t[validation] loss: 6.140, rec loss: 6.140, kl: 7.593\n"
          ],
          "name": "stdout"
        },
        {
          "output_type": "stream",
          "text": [
            "/usr/local/lib/python3.7/dist-packages/numpy/core/_asarray.py:136: VisibleDeprecationWarning: Creating an ndarray from ragged nested sequences (which is a list-or-tuple of lists-or-tuples-or ndarrays with different lengths or shapes) is deprecated. If you meant to do this, you must specify 'dtype=object' when creating the ndarray\n",
            "  return array(a, dtype, copy=False, order=order, subok=True)\n"
          ],
          "name": "stderr"
        },
        {
          "output_type": "stream",
          "text": [
            "\t[training] batches count: 1\n",
            "\t[training] loss: 9.963, rec loss: 6.247, kl: 7.432\n",
            "\t[validation] loss: 5.890, rec loss: 5.890, kl: 7.402\n"
          ],
          "name": "stdout"
        },
        {
          "output_type": "stream",
          "text": [
            "/usr/local/lib/python3.7/dist-packages/numpy/core/_asarray.py:136: VisibleDeprecationWarning: Creating an ndarray from ragged nested sequences (which is a list-or-tuple of lists-or-tuples-or ndarrays with different lengths or shapes) is deprecated. If you meant to do this, you must specify 'dtype=object' when creating the ndarray\n",
            "  return array(a, dtype, copy=False, order=order, subok=True)\n"
          ],
          "name": "stderr"
        },
        {
          "output_type": "stream",
          "text": [
            "\t[training] batches count: 1\n",
            "\t[training] loss: 9.921, rec loss: 6.248, kl: 7.346\n",
            "\t[validation] loss: 5.536, rec loss: 5.536, kl: 7.398\n"
          ],
          "name": "stdout"
        },
        {
          "output_type": "stream",
          "text": [
            "/usr/local/lib/python3.7/dist-packages/numpy/core/_asarray.py:136: VisibleDeprecationWarning: Creating an ndarray from ragged nested sequences (which is a list-or-tuple of lists-or-tuples-or ndarrays with different lengths or shapes) is deprecated. If you meant to do this, you must specify 'dtype=object' when creating the ndarray\n",
            "  return array(a, dtype, copy=False, order=order, subok=True)\n"
          ],
          "name": "stderr"
        },
        {
          "output_type": "stream",
          "text": [
            "\t[training] batches count: 1\n",
            "\t[training] loss: 9.400, rec loss: 5.735, kl: 7.330\n",
            "\t[validation] loss: 5.540, rec loss: 5.540, kl: 7.180\n"
          ],
          "name": "stdout"
        },
        {
          "output_type": "stream",
          "text": [
            "/usr/local/lib/python3.7/dist-packages/numpy/core/_asarray.py:136: VisibleDeprecationWarning: Creating an ndarray from ragged nested sequences (which is a list-or-tuple of lists-or-tuples-or ndarrays with different lengths or shapes) is deprecated. If you meant to do this, you must specify 'dtype=object' when creating the ndarray\n",
            "  return array(a, dtype, copy=False, order=order, subok=True)\n"
          ],
          "name": "stderr"
        }
      ]
    },
    {
      "cell_type": "code",
      "metadata": {
        "id": "fAaSYUT0F-Sl"
      },
      "source": [
        ""
      ],
      "execution_count": null,
      "outputs": []
    }
  ]
}