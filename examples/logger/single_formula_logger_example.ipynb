{
 "cells": [
  {
   "cell_type": "code",
   "execution_count": 1,
   "metadata": {},
   "outputs": [
    {
     "name": "stdout",
     "output_type": "stream",
     "text": [
      "Requirement already satisfied: wandb in /Users/juliasemavina/anaconda3/lib/python3.7/site-packages (0.10.11)\n",
      "Requirement already satisfied: six>=1.13.0 in /Users/juliasemavina/anaconda3/lib/python3.7/site-packages (from wandb) (1.14.0)\n",
      "Requirement already satisfied: sentry-sdk>=0.4.0 in /Users/juliasemavina/anaconda3/lib/python3.7/site-packages (from wandb) (0.19.4)\n",
      "Requirement already satisfied: subprocess32>=3.5.3 in /Users/juliasemavina/anaconda3/lib/python3.7/site-packages (from wandb) (3.5.4)\n",
      "Requirement already satisfied: docker-pycreds>=0.4.0 in /Users/juliasemavina/anaconda3/lib/python3.7/site-packages (from wandb) (0.4.0)\n",
      "Requirement already satisfied: configparser>=3.8.1 in /Users/juliasemavina/anaconda3/lib/python3.7/site-packages (from wandb) (5.0.1)\n",
      "Requirement already satisfied: psutil>=5.0.0 in /Users/juliasemavina/anaconda3/lib/python3.7/site-packages (from wandb) (5.7.0)\n",
      "Requirement already satisfied: Click>=7.0 in /Users/juliasemavina/anaconda3/lib/python3.7/site-packages (from wandb) (7.1.2)\n",
      "Requirement already satisfied: GitPython>=1.0.0 in /Users/juliasemavina/anaconda3/lib/python3.7/site-packages (from wandb) (3.1.11)\n",
      "Requirement already satisfied: shortuuid>=0.5.0 in /Users/juliasemavina/anaconda3/lib/python3.7/site-packages (from wandb) (1.0.1)\n",
      "Requirement already satisfied: python-dateutil>=2.6.1 in /Users/juliasemavina/anaconda3/lib/python3.7/site-packages (from wandb) (2.8.1)\n",
      "Requirement already satisfied: watchdog>=0.8.3 in /Users/juliasemavina/anaconda3/lib/python3.7/site-packages (from wandb) (0.10.2)\n",
      "Requirement already satisfied: requests<3,>=2.0.0 in /Users/juliasemavina/anaconda3/lib/python3.7/site-packages (from wandb) (2.23.0)\n",
      "Requirement already satisfied: protobuf>=3.12.0 in /Users/juliasemavina/anaconda3/lib/python3.7/site-packages (from wandb) (3.14.0)\n",
      "Requirement already satisfied: PyYAML in /Users/juliasemavina/anaconda3/lib/python3.7/site-packages (from wandb) (5.3.1)\n",
      "Requirement already satisfied: promise<3,>=2.0 in /Users/juliasemavina/anaconda3/lib/python3.7/site-packages (from wandb) (2.3)\n",
      "Requirement already satisfied: urllib3>=1.10.0 in /Users/juliasemavina/anaconda3/lib/python3.7/site-packages (from sentry-sdk>=0.4.0->wandb) (1.25.8)\n",
      "Requirement already satisfied: certifi in /Users/juliasemavina/anaconda3/lib/python3.7/site-packages (from sentry-sdk>=0.4.0->wandb) (2020.6.20)\n",
      "Requirement already satisfied: gitdb<5,>=4.0.1 in /Users/juliasemavina/anaconda3/lib/python3.7/site-packages (from GitPython>=1.0.0->wandb) (4.0.5)\n",
      "Requirement already satisfied: pathtools>=0.1.1 in /Users/juliasemavina/anaconda3/lib/python3.7/site-packages (from watchdog>=0.8.3->wandb) (0.1.2)\n",
      "Requirement already satisfied: idna<3,>=2.5 in /Users/juliasemavina/anaconda3/lib/python3.7/site-packages (from requests<3,>=2.0.0->wandb) (2.9)\n",
      "Requirement already satisfied: chardet<4,>=3.0.2 in /Users/juliasemavina/anaconda3/lib/python3.7/site-packages (from requests<3,>=2.0.0->wandb) (3.0.4)\n",
      "Requirement already satisfied: smmap<4,>=3.0.1 in /Users/juliasemavina/anaconda3/lib/python3.7/site-packages (from gitdb<5,>=4.0.1->GitPython>=1.0.0->wandb) (3.0.4)\n"
     ]
    }
   ],
   "source": [
    "!pip install wandb"
   ]
  },
  {
   "cell_type": "code",
   "execution_count": 1,
   "metadata": {},
   "outputs": [],
   "source": [
    "from roboscientist.datasets import equations_base\n",
    "from roboscientist import datasets\n",
    "from roboscientist.logger import SingleFormulaLogger\n",
    "\n",
    "import numpy as np"
   ]
  },
  {
   "cell_type": "code",
   "execution_count": 2,
   "metadata": {},
   "outputs": [
    {
     "name": "stderr",
     "output_type": "stream",
     "text": [
      "\u001b[34m\u001b[1mwandb\u001b[0m: Currently logged in as: \u001b[33mnuwanda57\u001b[0m (use `wandb login --relogin` to force relogin)\n",
      "\u001b[34m\u001b[1mwandb\u001b[0m: wandb version 0.10.23 is available!  To upgrade, please run:\n",
      "\u001b[34m\u001b[1mwandb\u001b[0m:  $ pip install wandb --upgrade\n"
     ]
    },
    {
     "data": {
      "text/html": [
       "\n",
       "                Tracking run with wandb version 0.10.11<br/>\n",
       "                Syncing run <strong style=\"color:#cdcd00\">experiment_name</strong> to <a href=\"https://wandb.ai\" target=\"_blank\">Weights & Biases</a> <a href=\"https://docs.wandb.com/integrations/jupyter.html\" target=\"_blank\">(Documentation)</a>.<br/>\n",
       "                Project page: <a href=\"https://wandb.ai/nuwanda57/project_name\" target=\"_blank\">https://wandb.ai/nuwanda57/project_name</a><br/>\n",
       "                Run page: <a href=\"https://wandb.ai/nuwanda57/project_name/runs/1jpab71k\" target=\"_blank\">https://wandb.ai/nuwanda57/project_name/runs/1jpab71k</a><br/>\n",
       "                Run data is saved locally in <code>/Users/juliasemavina/diploma/repo/RoboScientist/examples/logger/wandb/run-20210330_173557-1jpab71k</code><br/><br/>\n",
       "            "
      ],
      "text/plain": [
       "<IPython.core.display.HTML object>"
      ]
     },
     "metadata": {},
     "output_type": "display_data"
    }
   ],
   "source": [
    "logger = SingleFormulaLogger(project_name='project_name',\n",
    "                                     experiment_name='experiment_name',\n",
    "                                     experiment_config={})"
   ]
  },
  {
   "cell_type": "code",
   "execution_count": 3,
   "metadata": {},
   "outputs": [],
   "source": [
    "reference_problem = datasets.generate_polynomial(nodes=20, n_variables=1)\n",
    "X = reference_problem.domain_sample(n=20)\n",
    "reference_problem.add_observation(X)"
   ]
  },
  {
   "cell_type": "markdown",
   "metadata": {},
   "source": [
    "## Epochs"
   ]
  },
  {
   "cell_type": "code",
   "execution_count": 4,
   "metadata": {},
   "outputs": [
    {
     "name": "stdout",
     "output_type": "stream",
     "text": [
      "Epoch 0\n",
      "____________________________________________________________\n",
      "Epoch 1\n",
      "____________________________________________________________\n",
      "Epoch 2\n",
      "____________________________________________________________\n",
      "Epoch 3\n",
      "____________________________________________________________\n",
      "Epoch 4\n",
      "____________________________________________________________\n",
      "Epoch 5\n",
      "____________________________________________________________\n",
      "Epoch 6\n",
      "____________________________________________________________\n",
      "Epoch 7\n",
      "____________________________________________________________\n",
      "Epoch 8\n",
      "____________________________________________________________\n",
      "Epoch 9\n",
      "____________________________________________________________\n"
     ]
    }
   ],
   "source": [
    "for epoch in range(10):\n",
    "    print(f'Epoch {epoch}')\n",
    "    equations = [datasets.generate_polynomial(nodes=6, n_variables=1) for i in range(50)]\n",
    "    print('___' * 20)\n",
    "    logger.log_metrics(reference_problem, equations)\n",
    "    logger.commit_metrics()"
   ]
  }
 ],
 "metadata": {
  "kernelspec": {
   "display_name": "Python 3",
   "language": "python",
   "name": "python3"
  },
  "language_info": {
   "codemirror_mode": {
    "name": "ipython",
    "version": 3
   },
   "file_extension": ".py",
   "mimetype": "text/x-python",
   "name": "python",
   "nbconvert_exporter": "python",
   "pygments_lexer": "ipython3",
   "version": "3.7.1"
  }
 },
 "nbformat": 4,
 "nbformat_minor": 4
}
